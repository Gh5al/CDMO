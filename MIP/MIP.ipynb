{
  "nbformat": 4,
  "nbformat_minor": 0,
  "metadata": {
    "colab": {
      "provenance": [],
      "authorship_tag": "ABX9TyNAKIPvxfnzJabGM/h3eLyH",
      "include_colab_link": true
    },
    "kernelspec": {
      "name": "python3",
      "display_name": "Python 3"
    },
    "language_info": {
      "name": "python"
    }
  },
  "cells": [
    {
      "cell_type": "markdown",
      "metadata": {
        "id": "view-in-github",
        "colab_type": "text"
      },
      "source": [
        "<a href=\"https://colab.research.google.com/github/Gh5al/CDMO/blob/main/MIP/MIP.ipynb\" target=\"_parent\"><img src=\"https://colab.research.google.com/assets/colab-badge.svg\" alt=\"Open In Colab\"/></a>"
      ]
    },
    {
      "cell_type": "code",
      "source": [
        "!pip install highspy\n",
        "!apt-get install coinor-cbc\n",
        "!apt-get install -y -qq glpk-utils"
      ],
      "metadata": {
        "colab": {
          "base_uri": "https://localhost:8080/"
        },
        "id": "BhhOSpaCUKEY",
        "outputId": "87d36525-ae34-4c07-9e45-c0ba2decac74"
      },
      "execution_count": 1,
      "outputs": [
        {
          "output_type": "stream",
          "name": "stdout",
          "text": [
            "Requirement already satisfied: highspy in /usr/local/lib/python3.11/dist-packages (1.11.0)\n",
            "Requirement already satisfied: numpy in /usr/local/lib/python3.11/dist-packages (from highspy) (2.0.2)\n",
            "Reading package lists... Done\n",
            "Building dependency tree... Done\n",
            "Reading state information... Done\n",
            "The following additional packages will be installed:\n",
            "  coinor-libcbc3 coinor-libcgl1 coinor-libclp1 coinor-libcoinutils3v5\n",
            "  coinor-libosi1v5\n",
            "The following NEW packages will be installed:\n",
            "  coinor-cbc coinor-libcbc3 coinor-libcgl1 coinor-libclp1\n",
            "  coinor-libcoinutils3v5 coinor-libosi1v5\n",
            "0 upgraded, 6 newly installed, 0 to remove and 35 not upgraded.\n",
            "Need to get 2,908 kB of archives.\n",
            "After this operation, 8,310 kB of additional disk space will be used.\n",
            "Get:1 http://archive.ubuntu.com/ubuntu jammy/universe amd64 coinor-libcoinutils3v5 amd64 2.11.4+repack1-2 [465 kB]\n",
            "Get:2 http://archive.ubuntu.com/ubuntu jammy/universe amd64 coinor-libosi1v5 amd64 0.108.6+repack1-2 [275 kB]\n",
            "Get:3 http://archive.ubuntu.com/ubuntu jammy/universe amd64 coinor-libclp1 amd64 1.17.5+repack1-1 [937 kB]\n",
            "Get:4 http://archive.ubuntu.com/ubuntu jammy/universe amd64 coinor-libcgl1 amd64 0.60.3+repack1-3 [420 kB]\n",
            "Get:5 http://archive.ubuntu.com/ubuntu jammy/universe amd64 coinor-libcbc3 amd64 2.10.7+ds1-1 [799 kB]\n",
            "Get:6 http://archive.ubuntu.com/ubuntu jammy/universe amd64 coinor-cbc amd64 2.10.7+ds1-1 [11.6 kB]\n",
            "Fetched 2,908 kB in 2s (1,823 kB/s)\n",
            "Selecting previously unselected package coinor-libcoinutils3v5:amd64.\n",
            "(Reading database ... 126308 files and directories currently installed.)\n",
            "Preparing to unpack .../0-coinor-libcoinutils3v5_2.11.4+repack1-2_amd64.deb ...\n",
            "Unpacking coinor-libcoinutils3v5:amd64 (2.11.4+repack1-2) ...\n",
            "Selecting previously unselected package coinor-libosi1v5:amd64.\n",
            "Preparing to unpack .../1-coinor-libosi1v5_0.108.6+repack1-2_amd64.deb ...\n",
            "Unpacking coinor-libosi1v5:amd64 (0.108.6+repack1-2) ...\n",
            "Selecting previously unselected package coinor-libclp1.\n",
            "Preparing to unpack .../2-coinor-libclp1_1.17.5+repack1-1_amd64.deb ...\n",
            "Unpacking coinor-libclp1 (1.17.5+repack1-1) ...\n",
            "Selecting previously unselected package coinor-libcgl1:amd64.\n",
            "Preparing to unpack .../3-coinor-libcgl1_0.60.3+repack1-3_amd64.deb ...\n",
            "Unpacking coinor-libcgl1:amd64 (0.60.3+repack1-3) ...\n",
            "Selecting previously unselected package coinor-libcbc3:amd64.\n",
            "Preparing to unpack .../4-coinor-libcbc3_2.10.7+ds1-1_amd64.deb ...\n",
            "Unpacking coinor-libcbc3:amd64 (2.10.7+ds1-1) ...\n",
            "Selecting previously unselected package coinor-cbc.\n",
            "Preparing to unpack .../5-coinor-cbc_2.10.7+ds1-1_amd64.deb ...\n",
            "Unpacking coinor-cbc (2.10.7+ds1-1) ...\n",
            "Setting up coinor-libcoinutils3v5:amd64 (2.11.4+repack1-2) ...\n",
            "Setting up coinor-libosi1v5:amd64 (0.108.6+repack1-2) ...\n",
            "Setting up coinor-libclp1 (1.17.5+repack1-1) ...\n",
            "Setting up coinor-libcgl1:amd64 (0.60.3+repack1-3) ...\n",
            "Setting up coinor-libcbc3:amd64 (2.10.7+ds1-1) ...\n",
            "Setting up coinor-cbc (2.10.7+ds1-1) ...\n",
            "Processing triggers for man-db (2.10.2-1) ...\n",
            "Processing triggers for libc-bin (2.35-0ubuntu3.8) ...\n",
            "/sbin/ldconfig.real: /usr/local/lib/libtbbbind.so.3 is not a symbolic link\n",
            "\n",
            "/sbin/ldconfig.real: /usr/local/lib/libur_adapter_level_zero.so.0 is not a symbolic link\n",
            "\n",
            "/sbin/ldconfig.real: /usr/local/lib/libur_adapter_level_zero_v2.so.0 is not a symbolic link\n",
            "\n",
            "/sbin/ldconfig.real: /usr/local/lib/libtbb.so.12 is not a symbolic link\n",
            "\n",
            "/sbin/ldconfig.real: /usr/local/lib/libtbbbind_2_5.so.3 is not a symbolic link\n",
            "\n",
            "/sbin/ldconfig.real: /usr/local/lib/libur_adapter_opencl.so.0 is not a symbolic link\n",
            "\n",
            "/sbin/ldconfig.real: /usr/local/lib/libumf.so.0 is not a symbolic link\n",
            "\n",
            "/sbin/ldconfig.real: /usr/local/lib/libtbbbind_2_0.so.3 is not a symbolic link\n",
            "\n",
            "/sbin/ldconfig.real: /usr/local/lib/libtbbmalloc.so.2 is not a symbolic link\n",
            "\n",
            "/sbin/ldconfig.real: /usr/local/lib/libtbbmalloc_proxy.so.2 is not a symbolic link\n",
            "\n",
            "/sbin/ldconfig.real: /usr/local/lib/libur_loader.so.0 is not a symbolic link\n",
            "\n",
            "/sbin/ldconfig.real: /usr/local/lib/libtcm_debug.so.1 is not a symbolic link\n",
            "\n",
            "/sbin/ldconfig.real: /usr/local/lib/libtcm.so.1 is not a symbolic link\n",
            "\n",
            "/sbin/ldconfig.real: /usr/local/lib/libhwloc.so.15 is not a symbolic link\n",
            "\n",
            "Selecting previously unselected package libsuitesparseconfig5:amd64.\n",
            "(Reading database ... 126353 files and directories currently installed.)\n",
            "Preparing to unpack .../libsuitesparseconfig5_1%3a5.10.1+dfsg-4build1_amd64.deb ...\n",
            "Unpacking libsuitesparseconfig5:amd64 (1:5.10.1+dfsg-4build1) ...\n",
            "Selecting previously unselected package libamd2:amd64.\n",
            "Preparing to unpack .../libamd2_1%3a5.10.1+dfsg-4build1_amd64.deb ...\n",
            "Unpacking libamd2:amd64 (1:5.10.1+dfsg-4build1) ...\n",
            "Selecting previously unselected package libcolamd2:amd64.\n",
            "Preparing to unpack .../libcolamd2_1%3a5.10.1+dfsg-4build1_amd64.deb ...\n",
            "Unpacking libcolamd2:amd64 (1:5.10.1+dfsg-4build1) ...\n",
            "Selecting previously unselected package libglpk40:amd64.\n",
            "Preparing to unpack .../libglpk40_5.0-1_amd64.deb ...\n",
            "Unpacking libglpk40:amd64 (5.0-1) ...\n",
            "Selecting previously unselected package glpk-utils.\n",
            "Preparing to unpack .../glpk-utils_5.0-1_amd64.deb ...\n",
            "Unpacking glpk-utils (5.0-1) ...\n",
            "Setting up libsuitesparseconfig5:amd64 (1:5.10.1+dfsg-4build1) ...\n",
            "Setting up libamd2:amd64 (1:5.10.1+dfsg-4build1) ...\n",
            "Setting up libcolamd2:amd64 (1:5.10.1+dfsg-4build1) ...\n",
            "Setting up libglpk40:amd64 (5.0-1) ...\n",
            "Setting up glpk-utils (5.0-1) ...\n",
            "Processing triggers for man-db (2.10.2-1) ...\n",
            "Processing triggers for libc-bin (2.35-0ubuntu3.8) ...\n",
            "/sbin/ldconfig.real: /usr/local/lib/libtbbbind.so.3 is not a symbolic link\n",
            "\n",
            "/sbin/ldconfig.real: /usr/local/lib/libur_adapter_level_zero.so.0 is not a symbolic link\n",
            "\n",
            "/sbin/ldconfig.real: /usr/local/lib/libur_adapter_level_zero_v2.so.0 is not a symbolic link\n",
            "\n",
            "/sbin/ldconfig.real: /usr/local/lib/libtbb.so.12 is not a symbolic link\n",
            "\n",
            "/sbin/ldconfig.real: /usr/local/lib/libtbbbind_2_5.so.3 is not a symbolic link\n",
            "\n",
            "/sbin/ldconfig.real: /usr/local/lib/libur_adapter_opencl.so.0 is not a symbolic link\n",
            "\n",
            "/sbin/ldconfig.real: /usr/local/lib/libumf.so.0 is not a symbolic link\n",
            "\n",
            "/sbin/ldconfig.real: /usr/local/lib/libtbbbind_2_0.so.3 is not a symbolic link\n",
            "\n",
            "/sbin/ldconfig.real: /usr/local/lib/libtbbmalloc.so.2 is not a symbolic link\n",
            "\n",
            "/sbin/ldconfig.real: /usr/local/lib/libtbbmalloc_proxy.so.2 is not a symbolic link\n",
            "\n",
            "/sbin/ldconfig.real: /usr/local/lib/libur_loader.so.0 is not a symbolic link\n",
            "\n",
            "/sbin/ldconfig.real: /usr/local/lib/libtcm_debug.so.1 is not a symbolic link\n",
            "\n",
            "/sbin/ldconfig.real: /usr/local/lib/libtcm.so.1 is not a symbolic link\n",
            "\n",
            "/sbin/ldconfig.real: /usr/local/lib/libhwloc.so.15 is not a symbolic link\n",
            "\n"
          ]
        }
      ]
    },
    {
      "cell_type": "markdown",
      "source": [
        "3d decision variable + MTZ constraint to prevent subtours<br>\n",
        "3 solvers are used:\n",
        "- GLPK\n",
        "- CBC\n",
        "- HiGHS"
      ],
      "metadata": {
        "id": "dEV050G88k1w"
      }
    },
    {
      "cell_type": "code",
      "source": [
        "from pyomo.environ import *\n",
        "from pyomo.contrib.appsi.solvers import Cbc, Highs\n",
        "import time"
      ],
      "metadata": {
        "id": "TcQFk32RUVDw"
      },
      "execution_count": 46,
      "outputs": []
    },
    {
      "cell_type": "code",
      "execution_count": 41,
      "metadata": {
        "colab": {
          "base_uri": "https://localhost:8080/"
        },
        "id": "9GL-07Lc7m0U",
        "outputId": "a405e38c-ef17-4b3c-bdce-c3f73bd93dcd"
      },
      "outputs": [
        {
          "output_type": "stream",
          "name": "stdout",
          "text": [
            "6 8\n",
            "[200, 100, 200, 300, 200, 100]\n",
            "[16, 25, 21, 14, 19, 14, 6, 20]\n",
            "[[0, 80, 131, 22, 41, 127, 87, 48, 113], [60, 0, 85, 82, 101, 81, 53, 106, 57], [141, 83, 0, 129, 182, 4, 64, 189, 28], [22, 82, 129, 0, 55, 125, 65, 66, 101], [41, 99, 172, 55, 0, 168, 118, 11, 154], [137, 81, 4, 125, 178, 0, 60, 185, 32], [77, 63, 64, 65, 118, 60, 0, 125, 36], [48, 126, 179, 60, 58, 175, 125, 0, 161], [113, 57, 28, 101, 154, 24, 36, 161, 0]]\n"
          ]
        }
      ],
      "source": [
        "filename = \"./inst06.dat\"\n",
        "dist = []\n",
        "with open(filename,'r') as f:\n",
        "  m = int(f.readline().strip())\n",
        "  n = int(f.readline().strip())\n",
        "  capacity = [int(s) for s in f.readline().strip().split()]\n",
        "  size = [int(s) for s in f.readline().strip().split()]\n",
        "  for i in range(n+1):\n",
        "    dist.append([int(s) for s in f.readline().strip().split()])\n",
        "\n",
        "print(m,n)\n",
        "print(capacity)\n",
        "print(size)\n",
        "print(dist)"
      ]
    },
    {
      "cell_type": "code",
      "source": [
        "#3d decision variable xkij, if the courier k goes from i to j = 1 otherwise 0 and MTZ constraint to prevent subtours\n",
        "model = ConcreteModel()\n",
        "model.K = Set(initialize=range(m)) #couriers\n",
        "model.I = Set(initialize=range(n)) #items\n",
        "model.loc=Set(initialize=range(n+1)) #locations\n",
        "\n",
        "#variables\n",
        "model.x = Var(model.K, model.loc,model.loc,domain=Binary) #decision variable\n",
        "model.o = Var(model.K, model.I,domain=PositiveIntegers)  # order variable to prevent subtour\n",
        "model.dist = Var(model.K, domain=PositiveIntegers) #memorize the distance for each courier\n",
        "model.obj = Var(domain=PositiveIntegers)  # the objective function = max distance to be minimized\n",
        "\n",
        "#constraints\n",
        "#each item should be delivered by only one courier\n",
        "def one_item_delivery_rule(model,j):\n",
        "    return sum(model.x[k,i,j] for k in model.K for i in model.loc if i!=j) == 1\n",
        "model.one_item_delivery = Constraint(model.I, rule=one_item_delivery_rule)\n",
        "\n",
        "#enter and exit from node, number of times exit a node i = number of times enter a node i\n",
        "def enter_exit_rule(model,k,i):\n",
        "    return sum(model.x[k,i,j] for j in model.loc) == sum(model.x[k,j,i] for j in model.loc)\n",
        "model.enter_exit = Constraint(model.K, model.loc, rule=enter_exit_rule)\n",
        "\n",
        "#each courier start from depot exactly once\n",
        "def leave_depot_rule(model,k):\n",
        "    return sum(model.x[k,n,j] for j in model.I) == 1\n",
        "model.depot_leave = Constraint(model.K, rule=leave_depot_rule)\n",
        "\n",
        "#each courier return to depot exactly once\n",
        "def return_depot_rule(model,k):\n",
        "    return sum(model.x[k,i,n] for i in model.I) == 1\n",
        "model.depot_return = Constraint(model.K, rule=return_depot_rule)\n",
        "\n",
        "#avoid self-loop\n",
        "def self_loop_rule(model,k,i):\n",
        "    return model.x[k,i,i] == 0\n",
        "model.self_loop = Constraint(model.K, model.loc, rule=self_loop_rule)\n",
        "\n",
        "\n",
        "#capacity constraint\n",
        "def capacity_rule(model,k):\n",
        "    return sum(size[i]*(model.x[k,i,j]) for i in model.I for j in model.loc if i!=j) <= capacity[k]\n",
        "model.capacity = Constraint(model.K, rule=capacity_rule)\n",
        "\n",
        "#prevent subtours with MTZ constraint, used in TSP problem\n",
        "#https://phabe.ch/2021/09/19/tsp-subtour-elimination-by-miller-tucker-zemlin-constraint/\n",
        "model.order = ConstraintList()\n",
        "for k in model.K:\n",
        "    for i in model.I:\n",
        "      for j in model.I:\n",
        "        if i != j:\n",
        "          #use Big M notation(M=2*n)\n",
        "          model.order.add(model.o[k, j] - model.o[k,i] >= 1 -(1-model.x[k,i,j])*2*n)\n",
        "\n",
        "#compute distance\n",
        "def total_distance_rule(model,k):\n",
        "    return model.dist[k] == sum(dist[i][j] * model.x[k, i, j] for i in model.loc for j in model.loc if i != j)\n",
        "model.total_distance_constraint = Constraint(model.K, rule=total_distance_rule)\n",
        "\n",
        "#take the max distance travelled by any courier as obj\n",
        "def max_distance_constraint_rule(model, k):\n",
        "    return model.obj >= model.dist[k]\n",
        "model.max_distance_constraint = Constraint(model.K, rule=max_distance_constraint_rule)\n",
        "\n",
        "#lowerbound constraint\n",
        "def lower_bound_rule(model,i):\n",
        "    return model.obj >= (dist[n][i] + dist[i][n])\n",
        "model.lower_bound = Constraint(model.I, rule=lower_bound_rule)\n",
        "#objective\n",
        "model.objective = Objective(expr = model.obj, sense=minimize)\n",
        "\n"
      ],
      "metadata": {
        "id": "NnfbcwixmooM"
      },
      "execution_count": 42,
      "outputs": []
    },
    {
      "cell_type": "code",
      "source": [
        "#GLPK SOLVER\n",
        "solver = SolverFactory('glpk')\n",
        "solver.options['tmlim'] = 300\n",
        "results = solver.solve(model,tee=False)\n",
        "print(results)\n",
        "print(model.obj.value)"
      ],
      "metadata": {
        "colab": {
          "base_uri": "https://localhost:8080/"
        },
        "id": "_GNLD_kvOgMl",
        "outputId": "d09af8ae-ce38-477b-f48b-05642185330b"
      },
      "execution_count": 43,
      "outputs": [
        {
          "output_type": "stream",
          "name": "stdout",
          "text": [
            "\n",
            "Problem: \n",
            "- Name: unknown\n",
            "  Lower bound: 322.0\n",
            "  Upper bound: 322.0\n",
            "  Number of objectives: 1\n",
            "  Number of constraints: 490\n",
            "  Number of variables: 541\n",
            "  Number of nonzeros: 3248\n",
            "  Sense: minimize\n",
            "Solver: \n",
            "- Status: ok\n",
            "  Termination condition: optimal\n",
            "  Statistics: \n",
            "    Branch and bound: \n",
            "      Number of bounded subproblems: 21\n",
            "      Number of created subproblems: 21\n",
            "  Error rc: 0\n",
            "  Time: 0.03046417236328125\n",
            "Solution: \n",
            "- number of solutions: 0\n",
            "  number of solutions displayed: 0\n",
            "\n",
            "322.0\n"
          ]
        }
      ]
    },
    {
      "cell_type": "code",
      "source": [
        "#CBC SOLVER\n",
        "start_time = time.time()\n",
        "solver = Cbc()\n",
        "solver.config.time_limit = 300\n",
        "results = solver.solve(model)\n",
        "final_time = time.time() - start_time\n",
        "print(results)\n",
        "print(final_time)\n",
        "print(model.obj.value)"
      ],
      "metadata": {
        "colab": {
          "base_uri": "https://localhost:8080/"
        },
        "id": "KY5nOqkzmCy7",
        "outputId": "70b31067-1b08-450f-c7fd-eb414d4acece"
      },
      "execution_count": 47,
      "outputs": [
        {
          "output_type": "stream",
          "name": "stdout",
          "text": [
            "termination_condition: TerminationCondition.optimal\n",
            "best_feasible_objective: 322.0\n",
            "best_objective_bound: -inf\n",
            "0.28536057472229004\n",
            "322.0\n"
          ]
        }
      ]
    },
    {
      "cell_type": "code",
      "source": [
        "#HIGHS SOLVER\n",
        "start_time = time.time()\n",
        "solver = Highs()\n",
        "solver.config.time_limit = 300\n",
        "results = solver.solve(model)\n",
        "final_time = time.time() - start_time\n",
        "print(results)\n",
        "print(final_time)\n",
        "print(model.obj.value)"
      ],
      "metadata": {
        "colab": {
          "base_uri": "https://localhost:8080/"
        },
        "id": "DAFM52V-VM2y",
        "outputId": "f0160dd8-9ba7-4267-feb8-93da6b60c8bf"
      },
      "execution_count": 48,
      "outputs": [
        {
          "output_type": "stream",
          "name": "stdout",
          "text": [
            "termination_condition: TerminationCondition.optimal\n",
            "best_feasible_objective: 322.0\n",
            "best_objective_bound: 322.0\n",
            "1.3741250038146973\n",
            "322.0\n"
          ]
        }
      ]
    },
    {
      "cell_type": "code",
      "source": [
        "print(model.I.data())\n",
        "sol = []\n",
        "for k in model.K:\n",
        "    sub_sol = []\n",
        "    print(f\"Courier {k}:\")\n",
        "    for j in model.loc:\n",
        "      if value(model.x[k,n,j]) > 0.5:\n",
        "        first = j\n",
        "        sub_sol.append(first+1)\n",
        "    for i in model.loc:\n",
        "        for j in model.loc:\n",
        "\n",
        "            if value(model.x[k, i, j]) > 0.5:\n",
        "                #print(value(model.x[k, i, j]))\n",
        "                print(f\"travels from {i} to {j}\")\n",
        "    #route extraction(items delivered by the courier k following the delivery order)\n",
        "    succ=0\n",
        "    prec=first\n",
        "    while(True):\n",
        "      for i in model.loc:\n",
        "        if value(model.x[k,prec,i]>0.5):\n",
        "          #print(f\" from {prec} to {i}\")\n",
        "          if i == n:\n",
        "            succ=n\n",
        "          prec=i\n",
        "          break\n",
        "      if succ == n:\n",
        "        break\n",
        "      sub_sol.append(prec+1)\n",
        "    print(sub_sol)\n",
        "    sol.append(sub_sol)\n",
        "print(sol)\n"
      ],
      "metadata": {
        "colab": {
          "base_uri": "https://localhost:8080/"
        },
        "id": "fLyuADjBQDLA",
        "outputId": "324d1a11-da53-47b0-bb97-d2b8ed7bdcb6"
      },
      "execution_count": 53,
      "outputs": [
        {
          "output_type": "stream",
          "name": "stdout",
          "text": [
            "(0, 1, 2, 3, 4, 5, 6, 7)\n",
            "Courier 0:\n",
            "travels from 0 to 8\n",
            "travels from 7 to 0\n",
            "travels from 8 to 7\n",
            "[8, 1]\n",
            "Courier 1:\n",
            "travels from 3 to 8\n",
            "travels from 4 to 3\n",
            "travels from 8 to 4\n",
            "[5, 4]\n",
            "Courier 2:\n",
            "travels from 1 to 8\n",
            "travels from 8 to 1\n",
            "[2]\n",
            "Courier 3:\n",
            "travels from 5 to 8\n",
            "travels from 8 to 5\n",
            "[6]\n",
            "Courier 4:\n",
            "travels from 6 to 8\n",
            "travels from 8 to 6\n",
            "[7]\n",
            "Courier 5:\n",
            "travels from 2 to 8\n",
            "travels from 8 to 2\n",
            "[3]\n",
            "[[8, 1], [5, 4], [2], [6], [7], [3]]\n"
          ]
        }
      ]
    },
    {
      "cell_type": "code",
      "source": [
        "import json\n",
        "import os\n",
        "import math\n",
        "\n",
        "# Example values\n",
        "instance_id = 3\n",
        "approach = \"MIP\"\n",
        "approach_name = \"highs\"\n",
        "\n",
        "if final_time<300:\n",
        "  optimal = \"true\"\n",
        "  time = math.floor(final_time)\n",
        "else:\n",
        "  optimal = \"false\"\n",
        "  time = 300\n",
        "\n",
        "objective_value = model.obj.value\n",
        "solution = sol.copy()\n",
        "\n",
        "# Create JSON structure\n",
        "res = {\n",
        "    approach_name: {\n",
        "        \"time\": time,\n",
        "        \"optimal\": optimal,\n",
        "        \"obj\": int(objective_value),\n",
        "        \"sol\": sol\n",
        "    }\n",
        "}\n",
        "# Make sure directory exists\n",
        "out_dir = f\"res/{approach}\"\n",
        "os.makedirs(out_dir,exist_ok=True)\n",
        "\n",
        "# Save to file\n",
        "with open(f\"{out_dir}/{instance_id}.json\", \"w\") as f:\n",
        "    json.dump(res, f)\n"
      ],
      "metadata": {
        "id": "R1KdlnPrmwW2"
      },
      "execution_count": 54,
      "outputs": []
    }
  ]
}