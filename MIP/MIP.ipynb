{
  "nbformat": 4,
  "nbformat_minor": 0,
  "metadata": {
    "colab": {
      "provenance": [],
      "authorship_tag": "ABX9TyMXIni3eNOQwVS5m+mwp/fY",
      "include_colab_link": true
    },
    "kernelspec": {
      "name": "python3",
      "display_name": "Python 3"
    },
    "language_info": {
      "name": "python"
    }
  },
  "cells": [
    {
      "cell_type": "markdown",
      "metadata": {
        "id": "view-in-github",
        "colab_type": "text"
      },
      "source": [
        "<a href=\"https://colab.research.google.com/github/Gh5al/CDMO/blob/main/MIP/MIP.ipynb\" target=\"_parent\"><img src=\"https://colab.research.google.com/assets/colab-badge.svg\" alt=\"Open In Colab\"/></a>"
      ]
    },
    {
      "cell_type": "code",
      "source": [
        "!pip install highspy\n",
        "!apt-get install coinor-cbc\n",
        "!apt-get install -y -qq glpk-utils"
      ],
      "metadata": {
        "id": "BhhOSpaCUKEY",
        "outputId": "6d49f9b1-0b50-4749-ae6e-357ed274a5ba",
        "colab": {
          "base_uri": "https://localhost:8080/"
        }
      },
      "execution_count": 1,
      "outputs": [
        {
          "output_type": "stream",
          "name": "stdout",
          "text": [
            "Requirement already satisfied: highspy in /usr/local/lib/python3.11/dist-packages (1.11.0)\n",
            "Requirement already satisfied: numpy in /usr/local/lib/python3.11/dist-packages (from highspy) (2.0.2)\n",
            "Reading package lists... Done\n",
            "Building dependency tree... Done\n",
            "Reading state information... Done\n",
            "The following additional packages will be installed:\n",
            "  coinor-libcbc3 coinor-libcgl1 coinor-libclp1 coinor-libcoinutils3v5\n",
            "  coinor-libosi1v5\n",
            "The following NEW packages will be installed:\n",
            "  coinor-cbc coinor-libcbc3 coinor-libcgl1 coinor-libclp1\n",
            "  coinor-libcoinutils3v5 coinor-libosi1v5\n",
            "0 upgraded, 6 newly installed, 0 to remove and 35 not upgraded.\n",
            "Need to get 2,908 kB of archives.\n",
            "After this operation, 8,310 kB of additional disk space will be used.\n",
            "Get:1 http://archive.ubuntu.com/ubuntu jammy/universe amd64 coinor-libcoinutils3v5 amd64 2.11.4+repack1-2 [465 kB]\n",
            "Get:2 http://archive.ubuntu.com/ubuntu jammy/universe amd64 coinor-libosi1v5 amd64 0.108.6+repack1-2 [275 kB]\n",
            "Get:3 http://archive.ubuntu.com/ubuntu jammy/universe amd64 coinor-libclp1 amd64 1.17.5+repack1-1 [937 kB]\n",
            "Get:4 http://archive.ubuntu.com/ubuntu jammy/universe amd64 coinor-libcgl1 amd64 0.60.3+repack1-3 [420 kB]\n",
            "Get:5 http://archive.ubuntu.com/ubuntu jammy/universe amd64 coinor-libcbc3 amd64 2.10.7+ds1-1 [799 kB]\n",
            "Get:6 http://archive.ubuntu.com/ubuntu jammy/universe amd64 coinor-cbc amd64 2.10.7+ds1-1 [11.6 kB]\n",
            "Fetched 2,908 kB in 1s (2,672 kB/s)\n",
            "Selecting previously unselected package coinor-libcoinutils3v5:amd64.\n",
            "(Reading database ... 126308 files and directories currently installed.)\n",
            "Preparing to unpack .../0-coinor-libcoinutils3v5_2.11.4+repack1-2_amd64.deb ...\n",
            "Unpacking coinor-libcoinutils3v5:amd64 (2.11.4+repack1-2) ...\n",
            "Selecting previously unselected package coinor-libosi1v5:amd64.\n",
            "Preparing to unpack .../1-coinor-libosi1v5_0.108.6+repack1-2_amd64.deb ...\n",
            "Unpacking coinor-libosi1v5:amd64 (0.108.6+repack1-2) ...\n",
            "Selecting previously unselected package coinor-libclp1.\n",
            "Preparing to unpack .../2-coinor-libclp1_1.17.5+repack1-1_amd64.deb ...\n",
            "Unpacking coinor-libclp1 (1.17.5+repack1-1) ...\n",
            "Selecting previously unselected package coinor-libcgl1:amd64.\n",
            "Preparing to unpack .../3-coinor-libcgl1_0.60.3+repack1-3_amd64.deb ...\n",
            "Unpacking coinor-libcgl1:amd64 (0.60.3+repack1-3) ...\n",
            "Selecting previously unselected package coinor-libcbc3:amd64.\n",
            "Preparing to unpack .../4-coinor-libcbc3_2.10.7+ds1-1_amd64.deb ...\n",
            "Unpacking coinor-libcbc3:amd64 (2.10.7+ds1-1) ...\n",
            "Selecting previously unselected package coinor-cbc.\n",
            "Preparing to unpack .../5-coinor-cbc_2.10.7+ds1-1_amd64.deb ...\n",
            "Unpacking coinor-cbc (2.10.7+ds1-1) ...\n",
            "Setting up coinor-libcoinutils3v5:amd64 (2.11.4+repack1-2) ...\n",
            "Setting up coinor-libosi1v5:amd64 (0.108.6+repack1-2) ...\n",
            "Setting up coinor-libclp1 (1.17.5+repack1-1) ...\n",
            "Setting up coinor-libcgl1:amd64 (0.60.3+repack1-3) ...\n",
            "Setting up coinor-libcbc3:amd64 (2.10.7+ds1-1) ...\n",
            "Setting up coinor-cbc (2.10.7+ds1-1) ...\n",
            "Processing triggers for man-db (2.10.2-1) ...\n",
            "Processing triggers for libc-bin (2.35-0ubuntu3.8) ...\n",
            "/sbin/ldconfig.real: /usr/local/lib/libtbb.so.12 is not a symbolic link\n",
            "\n",
            "/sbin/ldconfig.real: /usr/local/lib/libhwloc.so.15 is not a symbolic link\n",
            "\n",
            "/sbin/ldconfig.real: /usr/local/lib/libtcm.so.1 is not a symbolic link\n",
            "\n",
            "/sbin/ldconfig.real: /usr/local/lib/libtbbbind_2_5.so.3 is not a symbolic link\n",
            "\n",
            "/sbin/ldconfig.real: /usr/local/lib/libur_loader.so.0 is not a symbolic link\n",
            "\n",
            "/sbin/ldconfig.real: /usr/local/lib/libtbbbind.so.3 is not a symbolic link\n",
            "\n",
            "/sbin/ldconfig.real: /usr/local/lib/libur_adapter_level_zero.so.0 is not a symbolic link\n",
            "\n",
            "/sbin/ldconfig.real: /usr/local/lib/libur_adapter_level_zero_v2.so.0 is not a symbolic link\n",
            "\n",
            "/sbin/ldconfig.real: /usr/local/lib/libtbbmalloc.so.2 is not a symbolic link\n",
            "\n",
            "/sbin/ldconfig.real: /usr/local/lib/libur_adapter_opencl.so.0 is not a symbolic link\n",
            "\n",
            "/sbin/ldconfig.real: /usr/local/lib/libtbbmalloc_proxy.so.2 is not a symbolic link\n",
            "\n",
            "/sbin/ldconfig.real: /usr/local/lib/libtcm_debug.so.1 is not a symbolic link\n",
            "\n",
            "/sbin/ldconfig.real: /usr/local/lib/libumf.so.0 is not a symbolic link\n",
            "\n",
            "/sbin/ldconfig.real: /usr/local/lib/libtbbbind_2_0.so.3 is not a symbolic link\n",
            "\n",
            "Selecting previously unselected package libsuitesparseconfig5:amd64.\n",
            "(Reading database ... 126353 files and directories currently installed.)\n",
            "Preparing to unpack .../libsuitesparseconfig5_1%3a5.10.1+dfsg-4build1_amd64.deb ...\n",
            "Unpacking libsuitesparseconfig5:amd64 (1:5.10.1+dfsg-4build1) ...\n",
            "Selecting previously unselected package libamd2:amd64.\n",
            "Preparing to unpack .../libamd2_1%3a5.10.1+dfsg-4build1_amd64.deb ...\n",
            "Unpacking libamd2:amd64 (1:5.10.1+dfsg-4build1) ...\n",
            "Selecting previously unselected package libcolamd2:amd64.\n",
            "Preparing to unpack .../libcolamd2_1%3a5.10.1+dfsg-4build1_amd64.deb ...\n",
            "Unpacking libcolamd2:amd64 (1:5.10.1+dfsg-4build1) ...\n",
            "Selecting previously unselected package libglpk40:amd64.\n",
            "Preparing to unpack .../libglpk40_5.0-1_amd64.deb ...\n",
            "Unpacking libglpk40:amd64 (5.0-1) ...\n",
            "Selecting previously unselected package glpk-utils.\n",
            "Preparing to unpack .../glpk-utils_5.0-1_amd64.deb ...\n",
            "Unpacking glpk-utils (5.0-1) ...\n",
            "Setting up libsuitesparseconfig5:amd64 (1:5.10.1+dfsg-4build1) ...\n",
            "Setting up libamd2:amd64 (1:5.10.1+dfsg-4build1) ...\n",
            "Setting up libcolamd2:amd64 (1:5.10.1+dfsg-4build1) ...\n",
            "Setting up libglpk40:amd64 (5.0-1) ...\n",
            "Setting up glpk-utils (5.0-1) ...\n",
            "Processing triggers for man-db (2.10.2-1) ...\n",
            "Processing triggers for libc-bin (2.35-0ubuntu3.8) ...\n",
            "/sbin/ldconfig.real: /usr/local/lib/libtbb.so.12 is not a symbolic link\n",
            "\n",
            "/sbin/ldconfig.real: /usr/local/lib/libhwloc.so.15 is not a symbolic link\n",
            "\n",
            "/sbin/ldconfig.real: /usr/local/lib/libtcm.so.1 is not a symbolic link\n",
            "\n",
            "/sbin/ldconfig.real: /usr/local/lib/libtbbbind_2_5.so.3 is not a symbolic link\n",
            "\n",
            "/sbin/ldconfig.real: /usr/local/lib/libur_loader.so.0 is not a symbolic link\n",
            "\n",
            "/sbin/ldconfig.real: /usr/local/lib/libtbbbind.so.3 is not a symbolic link\n",
            "\n",
            "/sbin/ldconfig.real: /usr/local/lib/libur_adapter_level_zero.so.0 is not a symbolic link\n",
            "\n",
            "/sbin/ldconfig.real: /usr/local/lib/libur_adapter_level_zero_v2.so.0 is not a symbolic link\n",
            "\n",
            "/sbin/ldconfig.real: /usr/local/lib/libtbbmalloc.so.2 is not a symbolic link\n",
            "\n",
            "/sbin/ldconfig.real: /usr/local/lib/libur_adapter_opencl.so.0 is not a symbolic link\n",
            "\n",
            "/sbin/ldconfig.real: /usr/local/lib/libtbbmalloc_proxy.so.2 is not a symbolic link\n",
            "\n",
            "/sbin/ldconfig.real: /usr/local/lib/libtcm_debug.so.1 is not a symbolic link\n",
            "\n",
            "/sbin/ldconfig.real: /usr/local/lib/libumf.so.0 is not a symbolic link\n",
            "\n",
            "/sbin/ldconfig.real: /usr/local/lib/libtbbbind_2_0.so.3 is not a symbolic link\n",
            "\n"
          ]
        }
      ]
    },
    {
      "cell_type": "markdown",
      "source": [
        "3d decision variable + MTZ constraint to prevent subtours<br>\n",
        "3 solvers are used:\n",
        "- GLPK\n",
        "- CBC\n",
        "- HiGHS"
      ],
      "metadata": {
        "id": "dEV050G88k1w"
      }
    },
    {
      "cell_type": "code",
      "source": [
        "from pyomo.environ import *\n",
        "from pyomo.contrib.appsi.solvers import Cbc, Highs\n",
        "import time\n",
        "import math\n",
        "import re\n",
        "import os\n",
        "import json"
      ],
      "metadata": {
        "id": "TcQFk32RUVDw"
      },
      "execution_count": 2,
      "outputs": []
    },
    {
      "cell_type": "code",
      "execution_count": 3,
      "metadata": {
        "id": "9GL-07Lc7m0U"
      },
      "outputs": [],
      "source": [
        "def read_data(filename):\n",
        "  dist = []\n",
        "  with open(filename,'r') as f:\n",
        "    m = int(f.readline().strip())\n",
        "    n = int(f.readline().strip())\n",
        "    capacity = [int(s) for s in f.readline().strip().split()]\n",
        "    size = [int(s) for s in f.readline().strip().split()]\n",
        "    for i in range(n+1):\n",
        "      dist.append([int(s) for s in f.readline().strip().split()])\n",
        "  return m,n,capacity,size,dist\n",
        "\n",
        "def sol_to_json(t,obj,sol,filename,approach_name):\n",
        "  method = \"MIP\"\n",
        "  instance_id = re.search(r'\\d+', filename).group()\n",
        "\n",
        "  if t<300 and obj != -1:\n",
        "    optimal = \"true\"\n",
        "    time = math.floor(t)\n",
        "  if t<300 and obj == -1:\n",
        "    optimal = \"false\"\n",
        "    time = math.floor(t)\n",
        "  if t>=300:\n",
        "    optimal = \"false\"\n",
        "    time = 300\n",
        "\n",
        "  # Create JSON structure\n",
        "  res = {\n",
        "      approach_name: {\n",
        "          \"time\": time,\n",
        "          \"optimal\": optimal,\n",
        "          \"obj\": int(obj),\n",
        "          \"sol\": sol\n",
        "      }\n",
        "  }\n",
        "  # Create directory\n",
        "  out_dir = f\"res/{method}\"\n",
        "  os.makedirs(out_dir,exist_ok=True)\n",
        "\n",
        "  # Save solution to file\n",
        "  with open(f\"{out_dir}/{instance_id}.json\", \"w\") as f:\n",
        "      json.dump(res, f)"
      ]
    },
    {
      "cell_type": "code",
      "source": [
        "filename = 'inst08.dat'\n",
        "m,n,capacity,size,dist = read_data(filename)\n",
        "print(f\"couriers: {m}, items: {n}\")"
      ],
      "metadata": {
        "colab": {
          "base_uri": "https://localhost:8080/"
        },
        "id": "rQcRu3jAThFq",
        "outputId": "072dcf92-8cbd-48b6-8006-18106f8203af"
      },
      "execution_count": 50,
      "outputs": [
        {
          "output_type": "stream",
          "name": "stdout",
          "text": [
            "couriers: 8, items: 10\n"
          ]
        }
      ]
    },
    {
      "cell_type": "code",
      "source": [
        "#3d decision variable xkij, if the courier k goes from i to j = 1 otherwise 0 and MTZ constraint to prevent subtours\n",
        "model = ConcreteModel()\n",
        "model.K = Set(initialize=range(m)) #couriers\n",
        "model.I = Set(initialize=range(n)) #items\n",
        "model.loc=Set(initialize=range(n+1)) #locations\n",
        "\n",
        "#variables\n",
        "model.x = Var(model.K, model.loc,model.loc,domain=Binary) #decision variable\n",
        "model.o = Var(model.K, model.I,domain=PositiveIntegers)  # order variable to prevent subtour\n",
        "model.dist = Var(model.K, domain=PositiveIntegers) #memorize the distance for each courier\n",
        "model.obj = Var(domain=PositiveIntegers)  # the objective function = max distance to be minimized\n",
        "\n",
        "#constraints\n",
        "#each item should be delivered by only one courier\n",
        "def one_item_delivery_rule(model,j):\n",
        "    return sum(model.x[k,i,j] for k in model.K for i in model.loc if i!=j) == 1\n",
        "model.one_item_delivery = Constraint(model.I, rule=one_item_delivery_rule)\n",
        "\n",
        "#enter and exit from node, number of times exit a node i = number of times enter a node i\n",
        "def enter_exit_rule(model,k,i):\n",
        "    return sum(model.x[k,i,j] for j in model.loc) == sum(model.x[k,j,i] for j in model.loc)\n",
        "model.enter_exit = Constraint(model.K, model.loc, rule=enter_exit_rule)\n",
        "\n",
        "#each courier start from depot exactly once\n",
        "def leave_depot_rule(model,k):\n",
        "    return sum(model.x[k,n,j] for j in model.I) == 1\n",
        "model.depot_leave = Constraint(model.K, rule=leave_depot_rule)\n",
        "\n",
        "#each courier return to depot exactly once\n",
        "def return_depot_rule(model,k):\n",
        "    return sum(model.x[k,i,n] for i in model.I) == 1\n",
        "model.depot_return = Constraint(model.K, rule=return_depot_rule)\n",
        "\n",
        "#avoid self-loop\n",
        "def self_loop_rule(model,k,i):\n",
        "    return model.x[k,i,i] == 0\n",
        "model.self_loop = Constraint(model.K, model.loc, rule=self_loop_rule)\n",
        "\n",
        "#capacity constraint\n",
        "def capacity_rule(model,k):\n",
        "    return sum(size[i]*(model.x[k,i,j]) for i in model.I for j in model.loc if i!=j) <= capacity[k]\n",
        "model.capacity = Constraint(model.K, rule=capacity_rule)\n",
        "\n",
        "#prevent subtours with MTZ constraint, used in TSP problem\n",
        "#https://phabe.ch/2021/09/19/tsp-subtour-elimination-by-miller-tucker-zemlin-constraint/\n",
        "model.order = ConstraintList()\n",
        "for k in model.K:\n",
        "    for i in model.I:\n",
        "      for j in model.I:\n",
        "        if i != j:\n",
        "          #use Big-M notation(M=2*n)\n",
        "          model.order.add(model.o[k, j] - model.o[k,i] >= 1 -(1-model.x[k,i,j])*2*n)\n",
        "\n",
        "#compute distance\n",
        "def total_distance_rule(model,k):\n",
        "    return model.dist[k] == sum(dist[i][j] * model.x[k, i, j] for i in model.loc for j in model.loc if i != j)\n",
        "model.total_distance_constraint = Constraint(model.K, rule=total_distance_rule)\n",
        "\n",
        "#constraint the obj to be maximum distance travelled by any courier\n",
        "def max_distance_constraint_rule(model, k):\n",
        "    return model.obj >= model.dist[k]\n",
        "model.max_distance_constraint = Constraint(model.K, rule=max_distance_constraint_rule)\n",
        "\n",
        "#lowerbound constraint\n",
        "def lower_bound_rule(model,i):\n",
        "    return model.obj >= (dist[n][i] + dist[i][n])\n",
        "model.lower_bound = Constraint(model.I, rule=lower_bound_rule)\n",
        "\n",
        "#upperbound:  m-1 courier delivers m items, and the last courier deliver n-m+1, take n-m-1 items with the biggest distances\n",
        "sorted_distances=sorted([dist[n][i]+dist[i][n] for i in range(n)],reverse=True)\n",
        "upper_bound = sum(sorted_distances[:n-m+1])\n",
        "def upper_bound_rule(model):\n",
        "    return model.obj <= upper_bound\n",
        "model.upper_bound = Constraint(rule=upper_bound_rule)\n",
        "\n",
        "#objective\n",
        "model.objective = Objective(expr = model.obj, sense=minimize)\n",
        "\n"
      ],
      "metadata": {
        "id": "NnfbcwixmooM"
      },
      "execution_count": 51,
      "outputs": []
    },
    {
      "cell_type": "code",
      "source": [
        "#GLPK SOLVER\n",
        "solver_name = \"GLPK\"\n",
        "solver = SolverFactory('glpk')\n",
        "solver.options['tmlim'] = 300\n",
        "start_time = time.time()\n",
        "results = solver.solve(model,tee=False,load_solutions=False)\n",
        "final_time = time.time() - start_time\n",
        "#print(results)\n",
        "print(final_time)\n",
        "print(model.obj.value)"
      ],
      "metadata": {
        "colab": {
          "base_uri": "https://localhost:8080/"
        },
        "id": "_GNLD_kvOgMl",
        "outputId": "0985cb30-3e35-479c-f795-df32157e40b8"
      },
      "execution_count": 59,
      "outputs": [
        {
          "output_type": "stream",
          "name": "stdout",
          "text": [
            "0.34328413009643555\n",
            "186.0\n"
          ]
        }
      ]
    },
    {
      "cell_type": "code",
      "source": [
        "#CBC SOLVER\n",
        "solver_name = \"CBC\"\n",
        "solver = Cbc()\n",
        "solver.config.time_limit = 300\n",
        "solver.config.load_solution = False\n",
        "start_time = time.time()\n",
        "results = solver.solve(model)\n",
        "final_time = time.time() - start_time\n",
        "print(results)\n",
        "print(final_time)\n",
        "print(model.obj.value)"
      ],
      "metadata": {
        "colab": {
          "base_uri": "https://localhost:8080/"
        },
        "id": "KY5nOqkzmCy7",
        "outputId": "20313fbd-ce34-42e8-80f3-27ece15cead2"
      },
      "execution_count": 60,
      "outputs": [
        {
          "output_type": "stream",
          "name": "stdout",
          "text": [
            "termination_condition: TerminationCondition.optimal\n",
            "best_feasible_objective: 186.0\n",
            "best_objective_bound: -inf\n",
            "0.422532320022583\n",
            "186.0\n"
          ]
        }
      ]
    },
    {
      "cell_type": "code",
      "source": [
        "#HIGHS SOLVER\n",
        "solver_name = \"HiGHS\"\n",
        "start_time = time.time()\n",
        "solver = Highs()\n",
        "solver.config.time_limit = 300\n",
        "solver.config.load_solution = False\n",
        "results = solver.solve(model)\n",
        "final_time = time.time() - start_time\n",
        "print(results)\n",
        "print(final_time)\n",
        "print(model.obj.value)\n"
      ],
      "metadata": {
        "colab": {
          "base_uri": "https://localhost:8080/"
        },
        "id": "DAFM52V-VM2y",
        "outputId": "c9704d85-3723-4402-d8b7-c541582fefab"
      },
      "execution_count": 61,
      "outputs": [
        {
          "output_type": "stream",
          "name": "stdout",
          "text": [
            "termination_condition: TerminationCondition.optimal\n",
            "best_feasible_objective: 186.0\n",
            "best_objective_bound: 186.0\n",
            "0.541215181350708\n",
            "186.0\n"
          ]
        }
      ]
    },
    {
      "cell_type": "code",
      "source": [
        "results.termination_condition"
      ],
      "metadata": {
        "id": "RVeGYXXR91kY",
        "outputId": "c916b6da-9141-4665-bf5e-8cd6d60df8bc",
        "colab": {
          "base_uri": "https://localhost:8080/"
        }
      },
      "execution_count": 62,
      "outputs": [
        {
          "output_type": "execute_result",
          "data": {
            "text/plain": [
              "<TerminationCondition.optimal: 5>"
            ]
          },
          "metadata": {},
          "execution_count": 62
        }
      ]
    },
    {
      "cell_type": "code",
      "source": [
        "def extract_solution(model,show_edges=False):\n",
        "  sol = []\n",
        "  n = len(model.I)\n",
        "  for k in model.K:\n",
        "    sub_sol = []\n",
        "    for j in model.loc:\n",
        "      #start the route from the depot and deliver the first item\n",
        "      if value(model.x[k,n,j]) > 0.5:\n",
        "        first = j\n",
        "        sub_sol.append(first+1)\n",
        "        break\n",
        "      #print the edges traversed by courier k if show is True\n",
        "      if show_edges:\n",
        "        for i in model.loc:\n",
        "          for j in model.loc:\n",
        "            if value(model.x[k, i, j]) > 0.5:\n",
        "              print(f\"travels from {i} to {j}\")\n",
        "    #route extraction(items delivered by the courier k following the delivery order)\n",
        "    succ=0\n",
        "    prec=first\n",
        "    while(True):\n",
        "      for i in model.loc:\n",
        "        if value(model.x[k,prec,i]>0.5):\n",
        "          if i == n:\n",
        "            succ=n\n",
        "          prec=i\n",
        "          break\n",
        "      if succ == n:\n",
        "        break\n",
        "      sub_sol.append(prec+1)\n",
        "    #print(sub_sol)\n",
        "    sol.append(sub_sol)\n",
        "  print(sol)\n",
        "  return sol\n"
      ],
      "metadata": {
        "id": "fLyuADjBQDLA"
      },
      "execution_count": 9,
      "outputs": []
    },
    {
      "cell_type": "code",
      "source": [
        "#check if the solver doesn't found a solution\n",
        "if model.obj.value==None:\n",
        "  obj = -1\n",
        "  sol = []\n",
        "  if final_time >= 300:\n",
        "    final_time = 300\n",
        "else:\n",
        "  obj = model.obj.value\n",
        "  sol = extract_solution(model)\n",
        "sol_to_json(final_time,obj,sol,filename,solver_name)"
      ],
      "metadata": {
        "colab": {
          "base_uri": "https://localhost:8080/"
        },
        "id": "LA8OmDAPRmWk",
        "outputId": "7ccbc18d-b409-47c6-9367-5e3a9bb91d74"
      },
      "execution_count": 63,
      "outputs": [
        {
          "output_type": "stream",
          "name": "stdout",
          "text": [
            "[[7, 4, 2], [8], [3], [5], [6], [9], [10], [1]]\n"
          ]
        }
      ]
    }
  ]
}