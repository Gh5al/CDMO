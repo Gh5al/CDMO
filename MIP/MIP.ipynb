{
  "nbformat": 4,
  "nbformat_minor": 0,
  "metadata": {
    "colab": {
      "provenance": [],
      "authorship_tag": "ABX9TyMOdxXBcI1FDD670lrfx4Hk",
      "include_colab_link": true
    },
    "kernelspec": {
      "name": "python3",
      "display_name": "Python 3"
    },
    "language_info": {
      "name": "python"
    }
  },
  "cells": [
    {
      "cell_type": "markdown",
      "metadata": {
        "id": "view-in-github",
        "colab_type": "text"
      },
      "source": [
        "<a href=\"https://colab.research.google.com/github/Gh5al/CDMO/blob/main/MIP/MIP.ipynb\" target=\"_parent\"><img src=\"https://colab.research.google.com/assets/colab-badge.svg\" alt=\"Open In Colab\"/></a>"
      ]
    },
    {
      "cell_type": "code",
      "source": [
        "!pip install highspy\n",
        "!apt-get install coinor-cbc\n",
        "!apt-get install -y -qq glpk-utils"
      ],
      "metadata": {
        "colab": {
          "base_uri": "https://localhost:8080/"
        },
        "id": "BhhOSpaCUKEY",
        "outputId": "87d36525-ae34-4c07-9e45-c0ba2decac74"
      },
      "execution_count": 1,
      "outputs": [
        {
          "output_type": "stream",
          "name": "stdout",
          "text": [
            "Requirement already satisfied: highspy in /usr/local/lib/python3.11/dist-packages (1.11.0)\n",
            "Requirement already satisfied: numpy in /usr/local/lib/python3.11/dist-packages (from highspy) (2.0.2)\n",
            "Reading package lists... Done\n",
            "Building dependency tree... Done\n",
            "Reading state information... Done\n",
            "The following additional packages will be installed:\n",
            "  coinor-libcbc3 coinor-libcgl1 coinor-libclp1 coinor-libcoinutils3v5\n",
            "  coinor-libosi1v5\n",
            "The following NEW packages will be installed:\n",
            "  coinor-cbc coinor-libcbc3 coinor-libcgl1 coinor-libclp1\n",
            "  coinor-libcoinutils3v5 coinor-libosi1v5\n",
            "0 upgraded, 6 newly installed, 0 to remove and 35 not upgraded.\n",
            "Need to get 2,908 kB of archives.\n",
            "After this operation, 8,310 kB of additional disk space will be used.\n",
            "Get:1 http://archive.ubuntu.com/ubuntu jammy/universe amd64 coinor-libcoinutils3v5 amd64 2.11.4+repack1-2 [465 kB]\n",
            "Get:2 http://archive.ubuntu.com/ubuntu jammy/universe amd64 coinor-libosi1v5 amd64 0.108.6+repack1-2 [275 kB]\n",
            "Get:3 http://archive.ubuntu.com/ubuntu jammy/universe amd64 coinor-libclp1 amd64 1.17.5+repack1-1 [937 kB]\n",
            "Get:4 http://archive.ubuntu.com/ubuntu jammy/universe amd64 coinor-libcgl1 amd64 0.60.3+repack1-3 [420 kB]\n",
            "Get:5 http://archive.ubuntu.com/ubuntu jammy/universe amd64 coinor-libcbc3 amd64 2.10.7+ds1-1 [799 kB]\n",
            "Get:6 http://archive.ubuntu.com/ubuntu jammy/universe amd64 coinor-cbc amd64 2.10.7+ds1-1 [11.6 kB]\n",
            "Fetched 2,908 kB in 2s (1,823 kB/s)\n",
            "Selecting previously unselected package coinor-libcoinutils3v5:amd64.\n",
            "(Reading database ... 126308 files and directories currently installed.)\n",
            "Preparing to unpack .../0-coinor-libcoinutils3v5_2.11.4+repack1-2_amd64.deb ...\n",
            "Unpacking coinor-libcoinutils3v5:amd64 (2.11.4+repack1-2) ...\n",
            "Selecting previously unselected package coinor-libosi1v5:amd64.\n",
            "Preparing to unpack .../1-coinor-libosi1v5_0.108.6+repack1-2_amd64.deb ...\n",
            "Unpacking coinor-libosi1v5:amd64 (0.108.6+repack1-2) ...\n",
            "Selecting previously unselected package coinor-libclp1.\n",
            "Preparing to unpack .../2-coinor-libclp1_1.17.5+repack1-1_amd64.deb ...\n",
            "Unpacking coinor-libclp1 (1.17.5+repack1-1) ...\n",
            "Selecting previously unselected package coinor-libcgl1:amd64.\n",
            "Preparing to unpack .../3-coinor-libcgl1_0.60.3+repack1-3_amd64.deb ...\n",
            "Unpacking coinor-libcgl1:amd64 (0.60.3+repack1-3) ...\n",
            "Selecting previously unselected package coinor-libcbc3:amd64.\n",
            "Preparing to unpack .../4-coinor-libcbc3_2.10.7+ds1-1_amd64.deb ...\n",
            "Unpacking coinor-libcbc3:amd64 (2.10.7+ds1-1) ...\n",
            "Selecting previously unselected package coinor-cbc.\n",
            "Preparing to unpack .../5-coinor-cbc_2.10.7+ds1-1_amd64.deb ...\n",
            "Unpacking coinor-cbc (2.10.7+ds1-1) ...\n",
            "Setting up coinor-libcoinutils3v5:amd64 (2.11.4+repack1-2) ...\n",
            "Setting up coinor-libosi1v5:amd64 (0.108.6+repack1-2) ...\n",
            "Setting up coinor-libclp1 (1.17.5+repack1-1) ...\n",
            "Setting up coinor-libcgl1:amd64 (0.60.3+repack1-3) ...\n",
            "Setting up coinor-libcbc3:amd64 (2.10.7+ds1-1) ...\n",
            "Setting up coinor-cbc (2.10.7+ds1-1) ...\n",
            "Processing triggers for man-db (2.10.2-1) ...\n",
            "Processing triggers for libc-bin (2.35-0ubuntu3.8) ...\n",
            "/sbin/ldconfig.real: /usr/local/lib/libtbbbind.so.3 is not a symbolic link\n",
            "\n",
            "/sbin/ldconfig.real: /usr/local/lib/libur_adapter_level_zero.so.0 is not a symbolic link\n",
            "\n",
            "/sbin/ldconfig.real: /usr/local/lib/libur_adapter_level_zero_v2.so.0 is not a symbolic link\n",
            "\n",
            "/sbin/ldconfig.real: /usr/local/lib/libtbb.so.12 is not a symbolic link\n",
            "\n",
            "/sbin/ldconfig.real: /usr/local/lib/libtbbbind_2_5.so.3 is not a symbolic link\n",
            "\n",
            "/sbin/ldconfig.real: /usr/local/lib/libur_adapter_opencl.so.0 is not a symbolic link\n",
            "\n",
            "/sbin/ldconfig.real: /usr/local/lib/libumf.so.0 is not a symbolic link\n",
            "\n",
            "/sbin/ldconfig.real: /usr/local/lib/libtbbbind_2_0.so.3 is not a symbolic link\n",
            "\n",
            "/sbin/ldconfig.real: /usr/local/lib/libtbbmalloc.so.2 is not a symbolic link\n",
            "\n",
            "/sbin/ldconfig.real: /usr/local/lib/libtbbmalloc_proxy.so.2 is not a symbolic link\n",
            "\n",
            "/sbin/ldconfig.real: /usr/local/lib/libur_loader.so.0 is not a symbolic link\n",
            "\n",
            "/sbin/ldconfig.real: /usr/local/lib/libtcm_debug.so.1 is not a symbolic link\n",
            "\n",
            "/sbin/ldconfig.real: /usr/local/lib/libtcm.so.1 is not a symbolic link\n",
            "\n",
            "/sbin/ldconfig.real: /usr/local/lib/libhwloc.so.15 is not a symbolic link\n",
            "\n",
            "Selecting previously unselected package libsuitesparseconfig5:amd64.\n",
            "(Reading database ... 126353 files and directories currently installed.)\n",
            "Preparing to unpack .../libsuitesparseconfig5_1%3a5.10.1+dfsg-4build1_amd64.deb ...\n",
            "Unpacking libsuitesparseconfig5:amd64 (1:5.10.1+dfsg-4build1) ...\n",
            "Selecting previously unselected package libamd2:amd64.\n",
            "Preparing to unpack .../libamd2_1%3a5.10.1+dfsg-4build1_amd64.deb ...\n",
            "Unpacking libamd2:amd64 (1:5.10.1+dfsg-4build1) ...\n",
            "Selecting previously unselected package libcolamd2:amd64.\n",
            "Preparing to unpack .../libcolamd2_1%3a5.10.1+dfsg-4build1_amd64.deb ...\n",
            "Unpacking libcolamd2:amd64 (1:5.10.1+dfsg-4build1) ...\n",
            "Selecting previously unselected package libglpk40:amd64.\n",
            "Preparing to unpack .../libglpk40_5.0-1_amd64.deb ...\n",
            "Unpacking libglpk40:amd64 (5.0-1) ...\n",
            "Selecting previously unselected package glpk-utils.\n",
            "Preparing to unpack .../glpk-utils_5.0-1_amd64.deb ...\n",
            "Unpacking glpk-utils (5.0-1) ...\n",
            "Setting up libsuitesparseconfig5:amd64 (1:5.10.1+dfsg-4build1) ...\n",
            "Setting up libamd2:amd64 (1:5.10.1+dfsg-4build1) ...\n",
            "Setting up libcolamd2:amd64 (1:5.10.1+dfsg-4build1) ...\n",
            "Setting up libglpk40:amd64 (5.0-1) ...\n",
            "Setting up glpk-utils (5.0-1) ...\n",
            "Processing triggers for man-db (2.10.2-1) ...\n",
            "Processing triggers for libc-bin (2.35-0ubuntu3.8) ...\n",
            "/sbin/ldconfig.real: /usr/local/lib/libtbbbind.so.3 is not a symbolic link\n",
            "\n",
            "/sbin/ldconfig.real: /usr/local/lib/libur_adapter_level_zero.so.0 is not a symbolic link\n",
            "\n",
            "/sbin/ldconfig.real: /usr/local/lib/libur_adapter_level_zero_v2.so.0 is not a symbolic link\n",
            "\n",
            "/sbin/ldconfig.real: /usr/local/lib/libtbb.so.12 is not a symbolic link\n",
            "\n",
            "/sbin/ldconfig.real: /usr/local/lib/libtbbbind_2_5.so.3 is not a symbolic link\n",
            "\n",
            "/sbin/ldconfig.real: /usr/local/lib/libur_adapter_opencl.so.0 is not a symbolic link\n",
            "\n",
            "/sbin/ldconfig.real: /usr/local/lib/libumf.so.0 is not a symbolic link\n",
            "\n",
            "/sbin/ldconfig.real: /usr/local/lib/libtbbbind_2_0.so.3 is not a symbolic link\n",
            "\n",
            "/sbin/ldconfig.real: /usr/local/lib/libtbbmalloc.so.2 is not a symbolic link\n",
            "\n",
            "/sbin/ldconfig.real: /usr/local/lib/libtbbmalloc_proxy.so.2 is not a symbolic link\n",
            "\n",
            "/sbin/ldconfig.real: /usr/local/lib/libur_loader.so.0 is not a symbolic link\n",
            "\n",
            "/sbin/ldconfig.real: /usr/local/lib/libtcm_debug.so.1 is not a symbolic link\n",
            "\n",
            "/sbin/ldconfig.real: /usr/local/lib/libtcm.so.1 is not a symbolic link\n",
            "\n",
            "/sbin/ldconfig.real: /usr/local/lib/libhwloc.so.15 is not a symbolic link\n",
            "\n"
          ]
        }
      ]
    },
    {
      "cell_type": "markdown",
      "source": [
        "3d decision variable + MTZ constraint to prevent subtours<br>\n",
        "3 solvers are used:\n",
        "- GLPK\n",
        "- CBC\n",
        "- HiGHS"
      ],
      "metadata": {
        "id": "dEV050G88k1w"
      }
    },
    {
      "cell_type": "code",
      "source": [
        "from pyomo.environ import *\n",
        "from pyomo.contrib.appsi.solvers import Cbc, Highs\n",
        "import time"
      ],
      "metadata": {
        "id": "TcQFk32RUVDw"
      },
      "execution_count": 2,
      "outputs": []
    },
    {
      "cell_type": "code",
      "execution_count": 32,
      "metadata": {
        "colab": {
          "base_uri": "https://localhost:8080/"
        },
        "id": "9GL-07Lc7m0U",
        "outputId": "1d5bee05-f087-4839-8e1d-a7c7bbff4087"
      },
      "outputs": [
        {
          "output_type": "stream",
          "name": "stdout",
          "text": [
            "3 47\n",
            "[300, 200, 200]\n",
            "[12, 8, 16, 5, 12, 5, 13, 20, 13, 18, 7, 6, 9, 9, 4, 25, 5, 17, 3, 16, 25, 21, 14, 19, 14, 6, 16, 9, 20, 13, 10, 16, 19, 22, 14, 10, 11, 15, 13, 15, 8, 22, 24, 3, 25, 19, 21]\n",
            "[[0, 60, 141, 22, 41, 137, 77, 48, 92, 105, 113, 103, 82, 15, 79, 24, 98, 69, 82, 30, 105, 89, 57, 94, 75, 50, 127, 16, 36, 77, 57, 70, 51, 101, 88, 38, 83, 108, 81, 124, 54, 131, 99, 70, 112, 162, 94, 64], [60, 0, 83, 82, 99, 81, 53, 106, 34, 61, 57, 43, 140, 63, 23, 56, 84, 59, 142, 88, 45, 79, 27, 34, 33, 46, 107, 58, 94, 17, 29, 26, 109, 51, 34, 30, 45, 48, 23, 64, 50, 73, 41, 26, 68, 104, 34, 36], [141, 83, 0, 129, 182, 4, 64, 189, 63, 36, 28, 126, 223, 126, 106, 139, 167, 142, 125, 171, 128, 52, 110, 117, 116, 129, 24, 125, 177, 100, 84, 71, 192, 40, 53, 103, 58, 131, 90, 147, 87, 70, 100, 71, 29, 101, 117, 77], [22, 82, 129, 0, 55, 125, 65, 60, 80, 93, 101, 125, 94, 19, 101, 46, 120, 91, 60, 42, 127, 77, 79, 116, 97, 72, 115, 24, 48, 99, 53, 58, 63, 89, 76, 52, 71, 130, 89, 146, 42, 119, 99, 58, 100, 150, 116, 52], [41, 99, 182, 55, 0, 178, 118, 11, 133, 146, 154, 118, 41, 56, 76, 43, 65, 40, 115, 41, 130, 130, 72, 125, 66, 53, 168, 57, 15, 100, 98, 111, 50, 142, 129, 79, 124, 107, 122, 91, 95, 172, 140, 111, 153, 203, 119, 105], [137, 81, 4, 125, 178, 0, 60, 185, 61, 32, 24, 124, 219, 122, 102, 135, 163, 138, 121, 167, 126, 48, 106, 115, 112, 125, 26, 121, 173, 98, 80, 67, 188, 36, 49, 99, 54, 129, 88, 145, 83, 68, 98, 67, 25, 99, 115, 73], [77, 53, 64, 65, 118, 60, 0, 125, 33, 28, 36, 96, 159, 62, 72, 75, 103, 78, 89, 107, 98, 26, 50, 87, 68, 65, 54, 61, 113, 70, 24, 27, 128, 24, 19, 39, 8, 101, 60, 117, 23, 54, 70, 27, 35, 85, 87, 17], [48, 106, 189, 60, 11, 185, 125, 0, 140, 153, 161, 125, 34, 63, 83, 50, 76, 47, 104, 30, 137, 137, 79, 132, 73, 60, 175, 64, 12, 107, 105, 118, 39, 149, 136, 86, 131, 114, 129, 102, 102, 179, 147, 118, 160, 210, 126, 112], [92, 34, 63, 80, 133, 61, 33, 140, 0, 41, 37, 63, 174, 77, 57, 90, 118, 93, 122, 122, 65, 59, 61, 54, 67, 80, 87, 76, 128, 37, 35, 22, 143, 31, 14, 54, 25, 68, 27, 84, 38, 39, 37, 22, 48, 70, 54, 28], [105, 61, 36, 93, 146, 32, 28, 153, 41, 0, 8, 104, 187, 90, 80, 103, 131, 106, 89, 135, 106, 18, 74, 95, 80, 93, 46, 89, 141, 78, 48, 35, 156, 10, 27, 67, 22, 109, 68, 125, 51, 48, 78, 35, 7, 79, 95, 41], [113, 57, 28, 101, 154, 24, 36, 161, 37, 8, 0, 100, 195, 98, 78, 111, 139, 114, 97, 143, 102, 24, 82, 91, 88, 101, 50, 97, 149, 74, 56, 43, 164, 12, 25, 75, 30, 105, 64, 121, 59, 44, 74, 43, 11, 75, 91, 49], [103, 43, 126, 125, 118, 124, 96, 125, 63, 104, 100, 0, 159, 106, 42, 79, 103, 78, 185, 111, 12, 122, 46, 9, 52, 65, 150, 101, 113, 26, 72, 69, 128, 94, 77, 73, 88, 11, 36, 35, 93, 56, 26, 69, 111, 85, 9, 79], [82, 140, 223, 94, 41, 219, 159, 34, 174, 187, 195, 159, 0, 97, 117, 84, 86, 81, 98, 52, 171, 171, 113, 166, 107, 94, 209, 98, 46, 141, 139, 152, 31, 183, 170, 120, 165, 148, 163, 124, 136, 213, 181, 152, 194, 244, 160, 146], [15, 63, 126, 19, 56, 122, 62, 63, 77, 90, 98, 106, 97, 0, 82, 27, 101, 72, 79, 45, 108, 74, 60, 97, 78, 53, 112, 5, 51, 80, 42, 55, 66, 86, 73, 33, 68, 111, 70, 127, 39, 116, 84, 55, 97, 147, 97, 49], [79, 23, 106, 101, 76, 102, 72, 83, 57, 80, 78, 42, 117, 82, 0, 55, 61, 36, 161, 87, 54, 98, 22, 49, 10, 29, 126, 77, 71, 24, 48, 45, 96, 70, 53, 49, 64, 31, 46, 45, 69, 96, 64, 45, 87, 127, 43, 55], [24, 56, 139, 46, 43, 135, 75, 50, 90, 103, 111, 79, 84, 27, 55, 0, 74, 45, 106, 32, 87, 87, 33, 82, 51, 26, 125, 22, 38, 57, 55, 68, 53, 99, 86, 36, 81, 84, 79, 100, 52, 129, 97, 68, 110, 160, 76, 62], [98, 84, 167, 120, 65, 163, 103, 76, 118, 131, 139, 103, 86, 101, 61, 74, 0, 29, 180, 106, 115, 117, 57, 110, 51, 48, 153, 96, 80, 85, 83, 96, 115, 127, 114, 68, 109, 92, 107, 68, 88, 157, 125, 96, 138, 188, 104, 90], [69, 59, 142, 91, 40, 138, 78, 47, 93, 106, 114, 78, 81, 72, 36, 45, 29, 0, 151, 77, 90, 90, 32, 85, 26, 19, 128, 67, 51, 60, 58, 71, 86, 102, 89, 39, 84, 67, 82, 55, 59, 132, 100, 71, 113, 163, 79, 65], [82, 142, 125, 60, 115, 121, 89, 104, 122, 89, 97, 185, 98, 79, 161, 106, 180, 151, 0, 74, 187, 73, 139, 176, 157, 132, 111, 84, 100, 159, 113, 116, 67, 91, 108, 112, 97, 190, 149, 206, 92, 129, 159, 116, 96, 160, 176, 106], [30, 88, 171, 42, 41, 167, 107, 30, 122, 135, 143, 111, 52, 45, 87, 32, 106, 77, 74, 0, 119, 119, 65, 114, 83, 58, 157, 46, 26, 89, 87, 100, 21, 131, 118, 68, 113, 116, 111, 132, 84, 161, 129, 100, 142, 192, 108, 94], [105, 45, 128, 127, 130, 126, 98, 137, 65, 106, 102, 12, 171, 108, 54, 87, 115, 90, 187, 119, 0, 124, 58, 11, 64, 77, 152, 103, 125, 30, 74, 71, 140, 96, 79, 75, 90, 23, 38, 47, 95, 58, 28, 71, 113, 73, 11, 81], [89, 79, 52, 77, 130, 48, 26, 137, 59, 18, 24, 122, 171, 74, 98, 87, 117, 90, 73, 119, 124, 0, 76, 113, 94, 77, 38, 73, 125, 96, 50, 53, 140, 28, 45, 51, 34, 127, 86, 143, 35, 66, 96, 53, 23, 97, 113, 43], [57, 27, 110, 79, 72, 106, 50, 79, 61, 74, 82, 46, 113, 60, 22, 33, 57, 32, 139, 65, 58, 76, 0, 53, 18, 19, 104, 55, 67, 28, 26, 39, 82, 70, 57, 27, 52, 51, 50, 67, 47, 100, 68, 39, 81, 131, 47, 33], [94, 34, 117, 116, 125, 115, 87, 132, 54, 95, 91, 9, 166, 97, 49, 82, 110, 85, 176, 114, 11, 113, 53, 0, 59, 72, 141, 92, 120, 25, 63, 60, 135, 85, 68, 64, 79, 18, 27, 42, 84, 47, 17, 60, 102, 78, 6, 70], [75, 33, 116, 97, 66, 112, 68, 73, 67, 80, 88, 52, 107, 78, 10, 51, 51, 26, 157, 83, 64, 94, 18, 59, 0, 25, 122, 73, 61, 34, 44, 45, 92, 76, 63, 45, 60, 41, 56, 49, 65, 106, 74, 45, 87, 137, 53, 51], [50, 46, 129, 72, 53, 125, 65, 60, 80, 93, 101, 65, 94, 53, 29, 26, 48, 19, 132, 58, 77, 77, 19, 72, 25, 0, 115, 48, 48, 47, 45, 58, 67, 89, 76, 26, 71, 58, 69, 74, 42, 119, 87, 58, 100, 150, 66, 52], [127, 107, 24, 115, 168, 26, 54, 175, 87, 46, 50, 150, 209, 112, 126, 125, 153, 128, 111, 157, 152, 38, 104, 141, 122, 115, 0, 111, 163, 124, 78, 81, 178, 56, 73, 89, 62, 155, 114, 171, 73, 94, 124, 81, 39, 125, 141, 71], [16, 58, 125, 24, 57, 121, 61, 64, 76, 89, 97, 101, 98, 5, 77, 22, 96, 67, 84, 46, 103, 73, 55, 92, 73, 48, 111, 0, 52, 75, 41, 54, 67, 85, 72, 28, 67, 106, 65, 122, 38, 115, 83, 54, 96, 146, 92, 48], [36, 94, 177, 48, 15, 173, 113, 12, 128, 141, 149, 113, 46, 51, 71, 38, 80, 51, 100, 26, 125, 125, 67, 120, 61, 48, 163, 52, 0, 95, 93, 106, 35, 137, 124, 74, 119, 102, 117, 106, 90, 167, 135, 106, 148, 198, 114, 100], [77, 17, 100, 99, 100, 98, 70, 107, 37, 78, 74, 26, 141, 80, 24, 57, 85, 60, 159, 89, 30, 96, 28, 25, 34, 47, 124, 75, 95, 0, 46, 43, 110, 68, 51, 47, 62, 31, 22, 47, 67, 72, 40, 43, 85, 103, 19, 53], [57, 29, 84, 53, 98, 80, 24, 105, 35, 48, 56, 72, 139, 42, 48, 55, 83, 58, 113, 87, 74, 50, 26, 63, 44, 45, 78, 41, 93, 46, 0, 13, 108, 44, 31, 19, 26, 77, 36, 93, 21, 74, 46, 13, 55, 105, 63, 7], [70, 26, 71, 58, 111, 67, 27, 118, 22, 35, 43, 69, 152, 55, 45, 68, 96, 71, 116, 100, 71, 53, 39, 60, 45, 58, 81, 54, 106, 43, 13, 0, 121, 31, 18, 32, 19, 74, 33, 90, 24, 61, 43, 0, 42, 92, 60, 10], [51, 109, 192, 63, 50, 188, 128, 39, 143, 156, 164, 128, 31, 66, 96, 53, 115, 86, 67, 21, 140, 140, 82, 135, 92, 67, 178, 67, 35, 110, 108, 121, 0, 152, 139, 89, 134, 125, 132, 141, 105, 182, 150, 121, 163, 213, 129, 115], [101, 51, 40, 89, 142, 36, 24, 149, 31, 10, 12, 94, 183, 86, 70, 99, 127, 102, 91, 131, 96, 28, 70, 85, 76, 89, 56, 85, 137, 68, 44, 31, 152, 0, 17, 63, 18, 99, 58, 115, 47, 38, 68, 31, 17, 69, 85, 37], [88, 34, 53, 76, 129, 49, 19, 136, 14, 27, 25, 77, 170, 73, 53, 86, 114, 89, 108, 118, 79, 45, 57, 68, 63, 76, 73, 72, 124, 51, 31, 18, 139, 17, 0, 50, 11, 82, 41, 98, 34, 43, 51, 18, 34, 74, 68, 24], [38, 30, 103, 52, 79, 99, 39, 86, 54, 67, 75, 73, 120, 33, 49, 36, 68, 39, 112, 68, 75, 51, 27, 64, 45, 26, 89, 28, 74, 47, 19, 32, 89, 63, 50, 0, 45, 78, 43, 94, 20, 93, 61, 32, 74, 124, 64, 26], [83, 45, 58, 71, 124, 54, 8, 131, 25, 22, 30, 88, 165, 68, 64, 81, 109, 84, 97, 113, 90, 34, 52, 79, 60, 71, 62, 67, 119, 62, 26, 19, 134, 18, 11, 45, 0, 93, 52, 109, 29, 48, 62, 19, 29, 79, 79, 19], [108, 48, 131, 130, 107, 129, 101, 114, 68, 109, 105, 11, 148, 111, 31, 84, 92, 67, 190, 116, 23, 127, 51, 18, 41, 58, 155, 106, 102, 31, 77, 74, 125, 99, 82, 78, 93, 0, 41, 24, 98, 65, 33, 74, 116, 96, 14, 84], [81, 23, 90, 89, 122, 88, 60, 129, 27, 68, 64, 36, 163, 70, 46, 79, 107, 82, 149, 111, 38, 86, 50, 27, 56, 69, 114, 65, 117, 22, 36, 33, 132, 58, 41, 43, 52, 41, 0, 57, 57, 50, 18, 33, 75, 81, 27, 43], [124, 64, 147, 146, 91, 145, 117, 102, 84, 125, 121, 35, 124, 127, 45, 100, 68, 55, 206, 132, 47, 143, 67, 42, 49, 74, 171, 122, 106, 47, 93, 90, 141, 115, 98, 94, 109, 24, 57, 0, 114, 89, 57, 90, 132, 120, 36, 100], [54, 50, 87, 42, 95, 83, 23, 102, 38, 51, 59, 93, 136, 39, 69, 52, 88, 59, 92, 84, 95, 35, 47, 84, 65, 42, 73, 38, 90, 67, 21, 24, 105, 47, 34, 20, 29, 98, 57, 114, 0, 77, 67, 24, 58, 108, 84, 14], [131, 73, 70, 119, 172, 68, 54, 179, 39, 48, 44, 56, 213, 116, 96, 129, 157, 132, 129, 161, 58, 66, 100, 47, 106, 119, 94, 115, 167, 72, 74, 61, 182, 38, 43, 93, 48, 65, 50, 89, 77, 0, 32, 61, 55, 31, 53, 67], [99, 41, 100, 99, 140, 98, 70, 147, 37, 78, 74, 26, 181, 84, 64, 97, 125, 100, 159, 129, 28, 96, 68, 17, 74, 87, 124, 83, 135, 40, 46, 43, 150, 68, 51, 61, 62, 33, 18, 57, 67, 32, 0, 43, 85, 63, 21, 53], [70, 26, 71, 58, 111, 67, 27, 118, 22, 35, 43, 69, 152, 55, 45, 68, 96, 71, 116, 100, 71, 53, 39, 60, 45, 58, 81, 54, 106, 43, 13, 0, 121, 31, 18, 32, 19, 74, 33, 90, 24, 61, 43, 0, 42, 92, 60, 10], [112, 68, 29, 100, 153, 25, 35, 160, 48, 7, 11, 111, 194, 97, 87, 110, 138, 113, 96, 142, 113, 23, 81, 102, 87, 100, 39, 96, 148, 85, 55, 42, 163, 17, 34, 74, 29, 116, 75, 132, 58, 55, 85, 42, 0, 86, 102, 48], [162, 104, 101, 150, 203, 99, 85, 210, 70, 79, 75, 85, 244, 147, 127, 160, 188, 163, 160, 192, 73, 97, 131, 78, 137, 150, 125, 146, 198, 103, 105, 92, 213, 69, 74, 124, 79, 96, 81, 120, 108, 31, 63, 92, 86, 0, 84, 98], [94, 34, 117, 116, 119, 115, 87, 126, 54, 95, 91, 9, 160, 97, 43, 76, 104, 79, 176, 108, 11, 113, 47, 6, 53, 66, 141, 92, 114, 19, 63, 60, 129, 85, 68, 64, 79, 14, 27, 36, 84, 53, 21, 60, 102, 84, 0, 70], [64, 36, 77, 52, 105, 73, 17, 112, 28, 41, 49, 79, 146, 49, 55, 62, 90, 65, 106, 94, 81, 43, 33, 70, 51, 52, 71, 48, 100, 53, 7, 10, 115, 37, 24, 26, 19, 84, 43, 100, 14, 67, 53, 10, 48, 98, 70, 0]]\n"
          ]
        }
      ],
      "source": [
        "filename = \"./inst13.dat\"\n",
        "dist = []\n",
        "with open(filename,'r') as f:\n",
        "  m = int(f.readline().strip())\n",
        "  n = int(f.readline().strip())\n",
        "  capacity = [int(s) for s in f.readline().strip().split()]\n",
        "  size = [int(s) for s in f.readline().strip().split()]\n",
        "  for i in range(n+1):\n",
        "    dist.append([int(s) for s in f.readline().strip().split()])\n",
        "\n",
        "print(m,n)\n",
        "print(capacity)\n",
        "print(size)\n",
        "print(dist)"
      ]
    },
    {
      "cell_type": "code",
      "source": [
        "#use the xkij and a ordering constraint\n",
        "model = ConcreteModel()\n",
        "model.K = Set(initialize=range(m)) #couriers\n",
        "model.I = Set(initialize=range(n)) #items\n",
        "model.loc=Set(initialize=range(n+1)) #locations\n",
        "\n",
        "#variables\n",
        "model.x = Var(model.K, model.loc,model.loc,domain=Binary) #successor variable\n",
        "model.o = Var(model.K, model.I,domain=PositiveIntegers)  # order variable to prevent subtour\n",
        "model.dist = Var(model.K, domain=PositiveIntegers) #memorize the distance for each courier\n",
        "model.obj = Var(domain=PositiveIntegers)  # max distance to minimize\n",
        "\n",
        "#constraints\n",
        "#each item should be delivered by only one courier\n",
        "def one_item_delivery_rule(model,j):\n",
        "    return sum(model.x[k,i,j] for k in model.K for i in model.loc if i!=j) == 1\n",
        "model.one_item_delivery = Constraint(model.I, rule=one_item_delivery_rule)\n",
        "\n",
        "#enter and exit from node, number of times exit a node i = number of times enter a node i\n",
        "def enter_exit_rule(model,k,i):\n",
        "    return sum(model.x[k,i,j] for j in model.loc) == sum(model.x[k,j,i] for j in model.loc)\n",
        "model.enter_exit = Constraint(model.K, model.loc, rule=enter_exit_rule)\n",
        "\n",
        "#each courier start from depot exactly once\n",
        "def leave_depot_rule(model,k):\n",
        "    return sum(model.x[k,n,j] for j in model.I) == 1\n",
        "model.depot_leave = Constraint(model.K, rule=leave_depot_rule)\n",
        "\n",
        "#each courier return to depot exactly once\n",
        "def return_depot_rule(model,k):\n",
        "    return sum(model.x[k,i,n] for i in model.I) == 1\n",
        "model.depot_return = Constraint(model.K, rule=return_depot_rule)\n",
        "\n",
        "#avoid self-loop\n",
        "def self_loop_rule(model,k,i):\n",
        "    return model.x[k,i,i] == 0\n",
        "model.self_loop = Constraint(model.K, model.loc, rule=self_loop_rule)\n",
        "\n",
        "\n",
        "#capacity constraint\n",
        "def capacity_rule(model,k):\n",
        "    return sum(size[i]*(model.x[k,i,j]) for i in model.I for j in model.loc if i!=j) <= capacity[k]\n",
        "model.capacity = Constraint(model.K, rule=capacity_rule)\n",
        "\n",
        "#prevent subtours with MTZ constraint, used in TSP problem\n",
        "#https://phabe.ch/2021/09/19/tsp-subtour-elimination-by-miller-tucker-zemlin-constraint/\n",
        "model.order = ConstraintList()\n",
        "for k in model.K:\n",
        "    for i in model.I:\n",
        "      for j in model.I:\n",
        "        if i != j:\n",
        "      #use Big M notation(M=2*n)\n",
        "          model.order.add(model.o[k, j] - model.o[k,i] >= 1 -(1-model.x[k,i,j])*2*n)\n",
        "\n",
        "#compute distance\n",
        "def total_distance_rule(model,k):\n",
        "    return model.dist[k] == sum(dist[i][j] * model.x[k, i, j] for i in model.loc for j in model.loc if i != j)\n",
        "model.total_distance_constraint = Constraint(model.K, rule=total_distance_rule)\n",
        "\n",
        "#take the max distance travelled by any courier as obj\n",
        "def max_distance_constraint_rule(model, k):\n",
        "    return model.obj >= model.dist[k]\n",
        "model.max_distance_constraint = Constraint(model.K, rule=max_distance_constraint_rule)\n",
        "\n",
        "#lowerbound constraint\n",
        "def lower_bound_rule(model,i):\n",
        "    return model.obj >= (dist[n][i] + dist[i][n])\n",
        "model.lower_bound = Constraint(model.I, rule=lower_bound_rule)\n",
        "#objective\n",
        "model.objective = Objective(expr = model.obj, sense=minimize)\n",
        "\n"
      ],
      "metadata": {
        "id": "NnfbcwixmooM"
      },
      "execution_count": 33,
      "outputs": []
    },
    {
      "cell_type": "code",
      "source": [
        "#GLPK SOLVER\n",
        "solver = SolverFactory('glpk')\n",
        "solver.options['tmlim'] = 300\n",
        "results = solver.solve(model,tee=False)\n",
        "print(results)\n",
        "print(model.obj.value)"
      ],
      "metadata": {
        "colab": {
          "base_uri": "https://localhost:8080/",
          "height": 356
        },
        "id": "_GNLD_kvOgMl",
        "outputId": "46223085-688f-4a13-fc6a-feb37a020fb0"
      },
      "execution_count": 34,
      "outputs": [
        {
          "output_type": "error",
          "ename": "KeyboardInterrupt",
          "evalue": "",
          "traceback": [
            "\u001b[0;31m---------------------------------------------------------------------------\u001b[0m",
            "\u001b[0;31mKeyboardInterrupt\u001b[0m                         Traceback (most recent call last)",
            "\u001b[0;32m/tmp/ipython-input-34-502594451.py\u001b[0m in \u001b[0;36m<cell line: 0>\u001b[0;34m()\u001b[0m\n\u001b[1;32m      2\u001b[0m \u001b[0msolver\u001b[0m \u001b[0;34m=\u001b[0m \u001b[0mSolverFactory\u001b[0m\u001b[0;34m(\u001b[0m\u001b[0;34m'glpk'\u001b[0m\u001b[0;34m)\u001b[0m\u001b[0;34m\u001b[0m\u001b[0;34m\u001b[0m\u001b[0m\n\u001b[1;32m      3\u001b[0m \u001b[0msolver\u001b[0m\u001b[0;34m.\u001b[0m\u001b[0moptions\u001b[0m\u001b[0;34m[\u001b[0m\u001b[0;34m'tmlim'\u001b[0m\u001b[0;34m]\u001b[0m \u001b[0;34m=\u001b[0m \u001b[0;36m300\u001b[0m\u001b[0;34m\u001b[0m\u001b[0;34m\u001b[0m\u001b[0m\n\u001b[0;32m----> 4\u001b[0;31m \u001b[0mresults\u001b[0m \u001b[0;34m=\u001b[0m \u001b[0msolver\u001b[0m\u001b[0;34m.\u001b[0m\u001b[0msolve\u001b[0m\u001b[0;34m(\u001b[0m\u001b[0mmodel\u001b[0m\u001b[0;34m,\u001b[0m\u001b[0mtee\u001b[0m\u001b[0;34m=\u001b[0m\u001b[0;32mFalse\u001b[0m\u001b[0;34m)\u001b[0m\u001b[0;34m\u001b[0m\u001b[0;34m\u001b[0m\u001b[0m\n\u001b[0m\u001b[1;32m      5\u001b[0m \u001b[0mprint\u001b[0m\u001b[0;34m(\u001b[0m\u001b[0mresults\u001b[0m\u001b[0;34m)\u001b[0m\u001b[0;34m\u001b[0m\u001b[0;34m\u001b[0m\u001b[0m\n\u001b[1;32m      6\u001b[0m \u001b[0mprint\u001b[0m\u001b[0;34m(\u001b[0m\u001b[0mmodel\u001b[0m\u001b[0;34m.\u001b[0m\u001b[0mobj\u001b[0m\u001b[0;34m.\u001b[0m\u001b[0mvalue\u001b[0m\u001b[0;34m)\u001b[0m\u001b[0;34m\u001b[0m\u001b[0;34m\u001b[0m\u001b[0m\n",
            "\u001b[0;32m/usr/local/lib/python3.11/dist-packages/pyomo/opt/base/solvers.py\u001b[0m in \u001b[0;36msolve\u001b[0;34m(self, *args, **kwds)\u001b[0m\n\u001b[1;32m    608\u001b[0m                 \u001b[0mself\u001b[0m\u001b[0;34m.\u001b[0m\u001b[0m_initialize_callbacks\u001b[0m\u001b[0;34m(\u001b[0m\u001b[0m_model\u001b[0m\u001b[0;34m)\u001b[0m\u001b[0;34m\u001b[0m\u001b[0;34m\u001b[0m\u001b[0m\n\u001b[1;32m    609\u001b[0m \u001b[0;34m\u001b[0m\u001b[0m\n\u001b[0;32m--> 610\u001b[0;31m             \u001b[0m_status\u001b[0m \u001b[0;34m=\u001b[0m \u001b[0mself\u001b[0m\u001b[0;34m.\u001b[0m\u001b[0m_apply_solver\u001b[0m\u001b[0;34m(\u001b[0m\u001b[0;34m)\u001b[0m\u001b[0;34m\u001b[0m\u001b[0;34m\u001b[0m\u001b[0m\n\u001b[0m\u001b[1;32m    611\u001b[0m             \u001b[0;32mif\u001b[0m \u001b[0mhasattr\u001b[0m\u001b[0;34m(\u001b[0m\u001b[0mself\u001b[0m\u001b[0;34m,\u001b[0m \u001b[0;34m'_transformation_data'\u001b[0m\u001b[0;34m)\u001b[0m\u001b[0;34m:\u001b[0m\u001b[0;34m\u001b[0m\u001b[0;34m\u001b[0m\u001b[0m\n\u001b[1;32m    612\u001b[0m                 \u001b[0;32mdel\u001b[0m \u001b[0mself\u001b[0m\u001b[0;34m.\u001b[0m\u001b[0m_transformation_data\u001b[0m\u001b[0;34m\u001b[0m\u001b[0;34m\u001b[0m\u001b[0m\n",
            "\u001b[0;32m/usr/local/lib/python3.11/dist-packages/pyomo/opt/solver/shellcmd.py\u001b[0m in \u001b[0;36m_apply_solver\u001b[0;34m(self)\u001b[0m\n\u001b[1;32m    264\u001b[0m \u001b[0;34m\u001b[0m\u001b[0m\n\u001b[1;32m    265\u001b[0m         \u001b[0msys\u001b[0m\u001b[0;34m.\u001b[0m\u001b[0mstdout\u001b[0m\u001b[0;34m.\u001b[0m\u001b[0mflush\u001b[0m\u001b[0;34m(\u001b[0m\u001b[0;34m)\u001b[0m\u001b[0;34m\u001b[0m\u001b[0;34m\u001b[0m\u001b[0m\n\u001b[0;32m--> 266\u001b[0;31m         \u001b[0mself\u001b[0m\u001b[0;34m.\u001b[0m\u001b[0m_rc\u001b[0m\u001b[0;34m,\u001b[0m \u001b[0mself\u001b[0m\u001b[0;34m.\u001b[0m\u001b[0m_log\u001b[0m \u001b[0;34m=\u001b[0m \u001b[0mself\u001b[0m\u001b[0;34m.\u001b[0m\u001b[0m_execute_command\u001b[0m\u001b[0;34m(\u001b[0m\u001b[0mself\u001b[0m\u001b[0;34m.\u001b[0m\u001b[0m_command\u001b[0m\u001b[0;34m)\u001b[0m\u001b[0;34m\u001b[0m\u001b[0;34m\u001b[0m\u001b[0m\n\u001b[0m\u001b[1;32m    267\u001b[0m         \u001b[0msys\u001b[0m\u001b[0;34m.\u001b[0m\u001b[0mstdout\u001b[0m\u001b[0;34m.\u001b[0m\u001b[0mflush\u001b[0m\u001b[0;34m(\u001b[0m\u001b[0;34m)\u001b[0m\u001b[0;34m\u001b[0m\u001b[0;34m\u001b[0m\u001b[0m\n\u001b[1;32m    268\u001b[0m         \u001b[0;32mreturn\u001b[0m \u001b[0mBunch\u001b[0m\u001b[0;34m(\u001b[0m\u001b[0mrc\u001b[0m\u001b[0;34m=\u001b[0m\u001b[0mself\u001b[0m\u001b[0;34m.\u001b[0m\u001b[0m_rc\u001b[0m\u001b[0;34m,\u001b[0m \u001b[0mlog\u001b[0m\u001b[0;34m=\u001b[0m\u001b[0mself\u001b[0m\u001b[0;34m.\u001b[0m\u001b[0m_log\u001b[0m\u001b[0;34m)\u001b[0m\u001b[0;34m\u001b[0m\u001b[0;34m\u001b[0m\u001b[0m\n",
            "\u001b[0;32m/usr/local/lib/python3.11/dist-packages/pyomo/opt/solver/shellcmd.py\u001b[0m in \u001b[0;36m_execute_command\u001b[0;34m(self, command)\u001b[0m\n\u001b[1;32m    332\u001b[0m         \u001b[0;32mtry\u001b[0m\u001b[0;34m:\u001b[0m\u001b[0;34m\u001b[0m\u001b[0;34m\u001b[0m\u001b[0m\n\u001b[1;32m    333\u001b[0m             \u001b[0;32mwith\u001b[0m \u001b[0mTeeStream\u001b[0m\u001b[0;34m(\u001b[0m\u001b[0;34m*\u001b[0m\u001b[0mostreams\u001b[0m\u001b[0;34m)\u001b[0m \u001b[0;32mas\u001b[0m \u001b[0mt\u001b[0m\u001b[0;34m:\u001b[0m\u001b[0;34m\u001b[0m\u001b[0;34m\u001b[0m\u001b[0m\n\u001b[0;32m--> 334\u001b[0;31m                 results = subprocess.run(\n\u001b[0m\u001b[1;32m    335\u001b[0m                     \u001b[0mcommand\u001b[0m\u001b[0;34m.\u001b[0m\u001b[0mcmd\u001b[0m\u001b[0;34m,\u001b[0m\u001b[0;34m\u001b[0m\u001b[0;34m\u001b[0m\u001b[0m\n\u001b[1;32m    336\u001b[0m                     \u001b[0minput\u001b[0m\u001b[0;34m=\u001b[0m\u001b[0m_input\u001b[0m\u001b[0;34m,\u001b[0m\u001b[0;34m\u001b[0m\u001b[0;34m\u001b[0m\u001b[0m\n",
            "\u001b[0;32m/usr/lib/python3.11/subprocess.py\u001b[0m in \u001b[0;36mrun\u001b[0;34m(input, capture_output, timeout, check, *popenargs, **kwargs)\u001b[0m\n\u001b[1;32m    548\u001b[0m     \u001b[0;32mwith\u001b[0m \u001b[0mPopen\u001b[0m\u001b[0;34m(\u001b[0m\u001b[0;34m*\u001b[0m\u001b[0mpopenargs\u001b[0m\u001b[0;34m,\u001b[0m \u001b[0;34m**\u001b[0m\u001b[0mkwargs\u001b[0m\u001b[0;34m)\u001b[0m \u001b[0;32mas\u001b[0m \u001b[0mprocess\u001b[0m\u001b[0;34m:\u001b[0m\u001b[0;34m\u001b[0m\u001b[0;34m\u001b[0m\u001b[0m\n\u001b[1;32m    549\u001b[0m         \u001b[0;32mtry\u001b[0m\u001b[0;34m:\u001b[0m\u001b[0;34m\u001b[0m\u001b[0;34m\u001b[0m\u001b[0m\n\u001b[0;32m--> 550\u001b[0;31m             \u001b[0mstdout\u001b[0m\u001b[0;34m,\u001b[0m \u001b[0mstderr\u001b[0m \u001b[0;34m=\u001b[0m \u001b[0mprocess\u001b[0m\u001b[0;34m.\u001b[0m\u001b[0mcommunicate\u001b[0m\u001b[0;34m(\u001b[0m\u001b[0minput\u001b[0m\u001b[0;34m,\u001b[0m \u001b[0mtimeout\u001b[0m\u001b[0;34m=\u001b[0m\u001b[0mtimeout\u001b[0m\u001b[0;34m)\u001b[0m\u001b[0;34m\u001b[0m\u001b[0;34m\u001b[0m\u001b[0m\n\u001b[0m\u001b[1;32m    551\u001b[0m         \u001b[0;32mexcept\u001b[0m \u001b[0mTimeoutExpired\u001b[0m \u001b[0;32mas\u001b[0m \u001b[0mexc\u001b[0m\u001b[0;34m:\u001b[0m\u001b[0;34m\u001b[0m\u001b[0;34m\u001b[0m\u001b[0m\n\u001b[1;32m    552\u001b[0m             \u001b[0mprocess\u001b[0m\u001b[0;34m.\u001b[0m\u001b[0mkill\u001b[0m\u001b[0;34m(\u001b[0m\u001b[0;34m)\u001b[0m\u001b[0;34m\u001b[0m\u001b[0;34m\u001b[0m\u001b[0m\n",
            "\u001b[0;32m/usr/lib/python3.11/subprocess.py\u001b[0m in \u001b[0;36mcommunicate\u001b[0;34m(self, input, timeout)\u001b[0m\n\u001b[1;32m   1199\u001b[0m                 \u001b[0mstderr\u001b[0m \u001b[0;34m=\u001b[0m \u001b[0mself\u001b[0m\u001b[0;34m.\u001b[0m\u001b[0mstderr\u001b[0m\u001b[0;34m.\u001b[0m\u001b[0mread\u001b[0m\u001b[0;34m(\u001b[0m\u001b[0;34m)\u001b[0m\u001b[0;34m\u001b[0m\u001b[0;34m\u001b[0m\u001b[0m\n\u001b[1;32m   1200\u001b[0m                 \u001b[0mself\u001b[0m\u001b[0;34m.\u001b[0m\u001b[0mstderr\u001b[0m\u001b[0;34m.\u001b[0m\u001b[0mclose\u001b[0m\u001b[0;34m(\u001b[0m\u001b[0;34m)\u001b[0m\u001b[0;34m\u001b[0m\u001b[0;34m\u001b[0m\u001b[0m\n\u001b[0;32m-> 1201\u001b[0;31m             \u001b[0mself\u001b[0m\u001b[0;34m.\u001b[0m\u001b[0mwait\u001b[0m\u001b[0;34m(\u001b[0m\u001b[0;34m)\u001b[0m\u001b[0;34m\u001b[0m\u001b[0;34m\u001b[0m\u001b[0m\n\u001b[0m\u001b[1;32m   1202\u001b[0m         \u001b[0;32melse\u001b[0m\u001b[0;34m:\u001b[0m\u001b[0;34m\u001b[0m\u001b[0;34m\u001b[0m\u001b[0m\n\u001b[1;32m   1203\u001b[0m             \u001b[0;32mif\u001b[0m \u001b[0mtimeout\u001b[0m \u001b[0;32mis\u001b[0m \u001b[0;32mnot\u001b[0m \u001b[0;32mNone\u001b[0m\u001b[0;34m:\u001b[0m\u001b[0;34m\u001b[0m\u001b[0;34m\u001b[0m\u001b[0m\n",
            "\u001b[0;32m/usr/lib/python3.11/subprocess.py\u001b[0m in \u001b[0;36mwait\u001b[0;34m(self, timeout)\u001b[0m\n\u001b[1;32m   1262\u001b[0m             \u001b[0mendtime\u001b[0m \u001b[0;34m=\u001b[0m \u001b[0m_time\u001b[0m\u001b[0;34m(\u001b[0m\u001b[0;34m)\u001b[0m \u001b[0;34m+\u001b[0m \u001b[0mtimeout\u001b[0m\u001b[0;34m\u001b[0m\u001b[0;34m\u001b[0m\u001b[0m\n\u001b[1;32m   1263\u001b[0m         \u001b[0;32mtry\u001b[0m\u001b[0;34m:\u001b[0m\u001b[0;34m\u001b[0m\u001b[0;34m\u001b[0m\u001b[0m\n\u001b[0;32m-> 1264\u001b[0;31m             \u001b[0;32mreturn\u001b[0m \u001b[0mself\u001b[0m\u001b[0;34m.\u001b[0m\u001b[0m_wait\u001b[0m\u001b[0;34m(\u001b[0m\u001b[0mtimeout\u001b[0m\u001b[0;34m=\u001b[0m\u001b[0mtimeout\u001b[0m\u001b[0;34m)\u001b[0m\u001b[0;34m\u001b[0m\u001b[0;34m\u001b[0m\u001b[0m\n\u001b[0m\u001b[1;32m   1265\u001b[0m         \u001b[0;32mexcept\u001b[0m \u001b[0mKeyboardInterrupt\u001b[0m\u001b[0;34m:\u001b[0m\u001b[0;34m\u001b[0m\u001b[0;34m\u001b[0m\u001b[0m\n\u001b[1;32m   1266\u001b[0m             \u001b[0;31m# https://bugs.python.org/issue25942\u001b[0m\u001b[0;34m\u001b[0m\u001b[0;34m\u001b[0m\u001b[0m\n",
            "\u001b[0;32m/usr/lib/python3.11/subprocess.py\u001b[0m in \u001b[0;36m_wait\u001b[0;34m(self, timeout)\u001b[0m\n\u001b[1;32m   2051\u001b[0m                         \u001b[0;32mif\u001b[0m \u001b[0mself\u001b[0m\u001b[0;34m.\u001b[0m\u001b[0mreturncode\u001b[0m \u001b[0;32mis\u001b[0m \u001b[0;32mnot\u001b[0m \u001b[0;32mNone\u001b[0m\u001b[0;34m:\u001b[0m\u001b[0;34m\u001b[0m\u001b[0;34m\u001b[0m\u001b[0m\n\u001b[1;32m   2052\u001b[0m                             \u001b[0;32mbreak\u001b[0m  \u001b[0;31m# Another thread waited.\u001b[0m\u001b[0;34m\u001b[0m\u001b[0;34m\u001b[0m\u001b[0m\n\u001b[0;32m-> 2053\u001b[0;31m                         \u001b[0;34m(\u001b[0m\u001b[0mpid\u001b[0m\u001b[0;34m,\u001b[0m \u001b[0msts\u001b[0m\u001b[0;34m)\u001b[0m \u001b[0;34m=\u001b[0m \u001b[0mself\u001b[0m\u001b[0;34m.\u001b[0m\u001b[0m_try_wait\u001b[0m\u001b[0;34m(\u001b[0m\u001b[0;36m0\u001b[0m\u001b[0;34m)\u001b[0m\u001b[0;34m\u001b[0m\u001b[0;34m\u001b[0m\u001b[0m\n\u001b[0m\u001b[1;32m   2054\u001b[0m                         \u001b[0;31m# Check the pid and loop as waitpid has been known to\u001b[0m\u001b[0;34m\u001b[0m\u001b[0;34m\u001b[0m\u001b[0m\n\u001b[1;32m   2055\u001b[0m                         \u001b[0;31m# return 0 even without WNOHANG in odd situations.\u001b[0m\u001b[0;34m\u001b[0m\u001b[0;34m\u001b[0m\u001b[0m\n",
            "\u001b[0;32m/usr/lib/python3.11/subprocess.py\u001b[0m in \u001b[0;36m_try_wait\u001b[0;34m(self, wait_flags)\u001b[0m\n\u001b[1;32m   2009\u001b[0m             \u001b[0;34m\"\"\"All callers to this function MUST hold self._waitpid_lock.\"\"\"\u001b[0m\u001b[0;34m\u001b[0m\u001b[0;34m\u001b[0m\u001b[0m\n\u001b[1;32m   2010\u001b[0m             \u001b[0;32mtry\u001b[0m\u001b[0;34m:\u001b[0m\u001b[0;34m\u001b[0m\u001b[0;34m\u001b[0m\u001b[0m\n\u001b[0;32m-> 2011\u001b[0;31m                 \u001b[0;34m(\u001b[0m\u001b[0mpid\u001b[0m\u001b[0;34m,\u001b[0m \u001b[0msts\u001b[0m\u001b[0;34m)\u001b[0m \u001b[0;34m=\u001b[0m \u001b[0mos\u001b[0m\u001b[0;34m.\u001b[0m\u001b[0mwaitpid\u001b[0m\u001b[0;34m(\u001b[0m\u001b[0mself\u001b[0m\u001b[0;34m.\u001b[0m\u001b[0mpid\u001b[0m\u001b[0;34m,\u001b[0m \u001b[0mwait_flags\u001b[0m\u001b[0;34m)\u001b[0m\u001b[0;34m\u001b[0m\u001b[0;34m\u001b[0m\u001b[0m\n\u001b[0m\u001b[1;32m   2012\u001b[0m             \u001b[0;32mexcept\u001b[0m \u001b[0mChildProcessError\u001b[0m\u001b[0;34m:\u001b[0m\u001b[0;34m\u001b[0m\u001b[0;34m\u001b[0m\u001b[0m\n\u001b[1;32m   2013\u001b[0m                 \u001b[0;31m# This happens if SIGCLD is set to be ignored or waiting\u001b[0m\u001b[0;34m\u001b[0m\u001b[0;34m\u001b[0m\u001b[0m\n",
            "\u001b[0;31mKeyboardInterrupt\u001b[0m: "
          ]
        }
      ]
    },
    {
      "cell_type": "code",
      "source": [
        "#CBC SOLVER\n",
        "start_time = time.time()\n",
        "solver = Cbc()\n",
        "solver.config.time_limit = 300\n",
        "results = solver.solve(model)\n",
        "final_time = time.time() - start_time\n",
        "print(results)\n",
        "print(final_time)\n",
        "print(model.obj.value)"
      ],
      "metadata": {
        "colab": {
          "base_uri": "https://localhost:8080/"
        },
        "id": "KY5nOqkzmCy7",
        "outputId": "32d2995a-2f0b-451c-b229-7416a608a1b3"
      },
      "execution_count": 24,
      "outputs": [
        {
          "output_type": "stream",
          "name": "stdout",
          "text": [
            "termination_condition: TerminationCondition.optimal\n",
            "best_feasible_objective: 16.0\n",
            "best_objective_bound: -inf\n",
            "0.34814929962158203\n",
            "16.0\n"
          ]
        }
      ]
    },
    {
      "cell_type": "code",
      "source": [
        "#HIGHS SOLVER\n",
        "start_time = time.time()\n",
        "solver = Highs()\n",
        "solver.config.time_limit = 300\n",
        "results = solver.solve(model)\n",
        "final_time = time.time() - start_time\n",
        "print(results)\n",
        "print(final_time)\n",
        "print(model.obj.value)"
      ],
      "metadata": {
        "colab": {
          "base_uri": "https://localhost:8080/"
        },
        "id": "DAFM52V-VM2y",
        "outputId": "e32290d7-37e6-42c7-affe-564aa06300cf"
      },
      "execution_count": 35,
      "outputs": [
        {
          "output_type": "stream",
          "name": "stderr",
          "text": [
            "WARNING:pyomo.contrib.appsi.solvers.highs:Loading a feasible but suboptimal solution. Please set load_solution=False and check results.termination_condition and results.found_feasible_solution() before loading a solution.\n"
          ]
        },
        {
          "output_type": "stream",
          "name": "stdout",
          "text": [
            "termination_condition: TerminationCondition.maxTimeLimit\n",
            "best_feasible_objective: 592.0\n",
            "best_objective_bound: 303.0\n",
            "301.0201504230499\n",
            "592.0\n"
          ]
        }
      ]
    },
    {
      "cell_type": "code",
      "source": [
        "print(model.I.data())\n",
        "sol = []\n",
        "for k in model.K:\n",
        "    sub_sol = []\n",
        "    print(f\"Courier {k}:\")\n",
        "    for j in model.loc:\n",
        "      if value(model.x[k,n,j]) > 0.5:\n",
        "        first = j\n",
        "        sub_sol.append(first+1)\n",
        "    for i in model.loc:\n",
        "        for j in model.loc:\n",
        "            if value(model.x[k, i, j]) > 0.5:\n",
        "                print(f\"travels from {i} to {j}\")\n",
        "    succ=0\n",
        "    prec=first\n",
        "    while(True):\n",
        "      for i in model.loc:\n",
        "        if value(model.x[k,prec,i]>0.5):\n",
        "          #print(f\" from {prec} to {i}\")\n",
        "          if i == n:\n",
        "            succ=n\n",
        "          prec=i\n",
        "          break\n",
        "      if succ == n:\n",
        "        break\n",
        "      sub_sol.append(prec+1)\n",
        "    print(sub_sol)\n",
        "    sol.append(sub_sol)\n",
        "print(sol)\n"
      ],
      "metadata": {
        "colab": {
          "base_uri": "https://localhost:8080/"
        },
        "id": "fLyuADjBQDLA",
        "outputId": "e42c3719-a972-411b-de86-26b158334602"
      },
      "execution_count": 39,
      "outputs": [
        {
          "output_type": "stream",
          "name": "stdout",
          "text": [
            "(0, 1, 2, 3, 4, 5, 6, 7, 8, 9, 10, 11, 12, 13, 14, 15, 16, 17, 18, 19, 20, 21, 22, 23, 24, 25, 26, 27, 28, 29, 30, 31, 32, 33, 34, 35, 36, 37, 38, 39, 40, 41, 42, 43, 44, 45, 46)\n",
            "Courier 0:\n",
            "travels from 1 to 39\n",
            "travels from 4 to 47\n",
            "travels from 7 to 4\n",
            "travels from 11 to 37\n",
            "travels from 12 to 7\n",
            "travels from 13 to 27\n",
            "travels from 15 to 28\n",
            "travels from 19 to 32\n",
            "travels from 20 to 35\n",
            "travels from 23 to 46\n",
            "travels from 27 to 15\n",
            "travels from 28 to 19\n",
            "travels from 32 to 12\n",
            "travels from 35 to 13\n",
            "travels from 37 to 20\n",
            "travels from 39 to 23\n",
            "travels from 46 to 11\n",
            "travels from 47 to 1\n",
            "[2, 40, 24, 47, 12, 38, 21, 36, 14, 28, 16, 29, 20, 33, 13, 8, 5]\n",
            "Courier 1:\n",
            "travels from 8 to 38\n",
            "travels from 14 to 22\n",
            "travels from 16 to 17\n",
            "travels from 17 to 14\n",
            "travels from 22 to 30\n",
            "travels from 24 to 47\n",
            "travels from 25 to 16\n",
            "travels from 29 to 24\n",
            "travels from 30 to 8\n",
            "travels from 33 to 29\n",
            "travels from 38 to 42\n",
            "travels from 41 to 45\n",
            "travels from 42 to 41\n",
            "travels from 45 to 33\n",
            "travels from 47 to 25\n",
            "[26, 17, 18, 15, 23, 31, 9, 39, 43, 42, 46, 34, 30, 25]\n",
            "Courier 2:\n",
            "travels from 0 to 34\n",
            "travels from 2 to 5\n",
            "travels from 3 to 18\n",
            "travels from 5 to 26\n",
            "travels from 6 to 47\n",
            "travels from 9 to 44\n",
            "travels from 10 to 21\n",
            "travels from 18 to 0\n",
            "travels from 21 to 9\n",
            "travels from 26 to 3\n",
            "travels from 31 to 43\n",
            "travels from 34 to 36\n",
            "travels from 36 to 6\n",
            "travels from 40 to 31\n",
            "travels from 43 to 10\n",
            "travels from 44 to 2\n",
            "travels from 47 to 40\n",
            "[41, 32, 44, 11, 22, 10, 45, 3, 6, 27, 4, 19, 1, 35, 37, 7]\n",
            "[[2, 40, 24, 47, 12, 38, 21, 36, 14, 28, 16, 29, 20, 33, 13, 8, 5], [26, 17, 18, 15, 23, 31, 9, 39, 43, 42, 46, 34, 30, 25], [41, 32, 44, 11, 22, 10, 45, 3, 6, 27, 4, 19, 1, 35, 37, 7]]\n"
          ]
        }
      ]
    },
    {
      "cell_type": "code",
      "source": [
        "import json\n",
        "import os\n",
        "import math\n",
        "\n",
        "# Example values\n",
        "instance_id = 3\n",
        "approach = \"MIP\"\n",
        "approach_name = \"highs\"\n",
        "\n",
        "if final_time<300:\n",
        "  optimal = \"true\"\n",
        "  time = math.floor(final_time)\n",
        "else:\n",
        "  optimal = \"false\"\n",
        "  time = 300\n",
        "\n",
        "objective_value = model.obj.value\n",
        "solution = sol.copy()\n",
        "\n",
        "# Create JSON structure\n",
        "res = {\n",
        "    approach_name: {\n",
        "        \"time\": time,\n",
        "        \"optimal\": optimal,\n",
        "        \"obj\": int(objective_value),\n",
        "        \"sol\": sol\n",
        "    }\n",
        "}\n",
        "# Make sure directory exists\n",
        "out_dir = f\"res/{approach}\"\n",
        "os.makedirs(out_dir,exist_ok=True)\n",
        "\n",
        "# Save to file\n",
        "with open(f\"{out_dir}/{instance_id}.json\", \"w\") as f:\n",
        "    json.dump(res, f)\n"
      ],
      "metadata": {
        "id": "R1KdlnPrmwW2"
      },
      "execution_count": 38,
      "outputs": []
    }
  ]
}