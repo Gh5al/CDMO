{
  "nbformat": 4,
  "nbformat_minor": 0,
  "metadata": {
    "colab": {
      "provenance": [],
      "authorship_tag": "ABX9TyP8BCCbA6jPhlLYCb8Ohjo0",
      "include_colab_link": true
    },
    "kernelspec": {
      "name": "python3",
      "display_name": "Python 3"
    },
    "language_info": {
      "name": "python"
    }
  },
  "cells": [
    {
      "cell_type": "markdown",
      "metadata": {
        "id": "view-in-github",
        "colab_type": "text"
      },
      "source": [
        "<a href=\"https://colab.research.google.com/github/Gh5al/CDMO/blob/main/MIP/MIP.ipynb\" target=\"_parent\"><img src=\"https://colab.research.google.com/assets/colab-badge.svg\" alt=\"Open In Colab\"/></a>"
      ]
    },
    {
      "cell_type": "code",
      "source": [
        "!pip install highspy\n",
        "!apt-get install coinor-cbc\n",
        "!apt-get install -y -qq glpk-utils"
      ],
      "metadata": {
        "id": "BhhOSpaCUKEY"
      },
      "execution_count": null,
      "outputs": []
    },
    {
      "cell_type": "markdown",
      "source": [
        "3d decision variable + MTZ constraint to prevent subtours<br>\n",
        "3 solvers are used:\n",
        "- GLPK\n",
        "- CBC\n",
        "- HiGHS"
      ],
      "metadata": {
        "id": "dEV050G88k1w"
      }
    },
    {
      "cell_type": "code",
      "source": [
        "from pyomo.environ import *\n",
        "from pyomo.contrib.appsi.solvers import Cbc, Highs\n",
        "import time\n",
        "import math\n",
        "import re\n",
        "import os\n",
        "import json"
      ],
      "metadata": {
        "id": "TcQFk32RUVDw"
      },
      "execution_count": 35,
      "outputs": []
    },
    {
      "cell_type": "code",
      "execution_count": 36,
      "metadata": {
        "id": "9GL-07Lc7m0U"
      },
      "outputs": [],
      "source": [
        "def read_data(filename):\n",
        "  dist = []\n",
        "  with open(filename,'r') as f:\n",
        "    m = int(f.readline().strip())\n",
        "    n = int(f.readline().strip())\n",
        "    capacity = [int(s) for s in f.readline().strip().split()]\n",
        "    size = [int(s) for s in f.readline().strip().split()]\n",
        "    for i in range(n+1):\n",
        "      dist.append([int(s) for s in f.readline().strip().split()])\n",
        "  return m,n,capacity,size,dist\n",
        "\n",
        "def sol_to_json(t,obj,sol,filename,approach_name):\n",
        "  method = \"MIP\"\n",
        "  instance_id = re.search(r'\\d+', filename).group()\n",
        "  if t<300:\n",
        "    optimal = \"true\"\n",
        "    time = math.floor(t)\n",
        "  else:\n",
        "    optimal = \"false\"\n",
        "    time = 300\n",
        "  # Create JSON structure\n",
        "  res = {\n",
        "      approach_name: {\n",
        "          \"time\": time,\n",
        "          \"optimal\": optimal,\n",
        "          \"obj\": int(obj),\n",
        "          \"sol\": sol\n",
        "      }\n",
        "  }\n",
        "  # Create directory\n",
        "  out_dir = f\"res/{method}\"\n",
        "  os.makedirs(out_dir,exist_ok=True)\n",
        "\n",
        "  # Save solution to file\n",
        "  with open(f\"{out_dir}/{instance_id}.json\", \"w\") as f:\n",
        "      json.dump(res, f)"
      ]
    },
    {
      "cell_type": "code",
      "source": [
        "filename = 'inst06.dat'\n",
        "m,n,capacity,size,dist = read_data(filename)\n",
        "print(f\"couriers: {m}, items: {n}\")"
      ],
      "metadata": {
        "colab": {
          "base_uri": "https://localhost:8080/"
        },
        "id": "rQcRu3jAThFq",
        "outputId": "e5b31b0c-83d1-4f49-8f8d-ee775dddbbde"
      },
      "execution_count": 39,
      "outputs": [
        {
          "output_type": "stream",
          "name": "stdout",
          "text": [
            "couriers:6, items: 8\n"
          ]
        }
      ]
    },
    {
      "cell_type": "code",
      "source": [
        "#3d decision variable xkij, if the courier k goes from i to j = 1 otherwise 0 and MTZ constraint to prevent subtours\n",
        "model = ConcreteModel()\n",
        "model.K = Set(initialize=range(m)) #couriers\n",
        "model.I = Set(initialize=range(n)) #items\n",
        "model.loc=Set(initialize=range(n+1)) #locations\n",
        "\n",
        "#variables\n",
        "model.x = Var(model.K, model.loc,model.loc,domain=Binary) #decision variable\n",
        "model.o = Var(model.K, model.I,domain=PositiveIntegers)  # order variable to prevent subtour\n",
        "model.dist = Var(model.K, domain=PositiveIntegers) #memorize the distance for each courier\n",
        "model.obj = Var(domain=PositiveIntegers)  # the objective function = max distance to be minimized\n",
        "\n",
        "#constraints\n",
        "#each item should be delivered by only one courier\n",
        "def one_item_delivery_rule(model,j):\n",
        "    return sum(model.x[k,i,j] for k in model.K for i in model.loc if i!=j) == 1\n",
        "model.one_item_delivery = Constraint(model.I, rule=one_item_delivery_rule)\n",
        "\n",
        "#enter and exit from node, number of times exit a node i = number of times enter a node i\n",
        "def enter_exit_rule(model,k,i):\n",
        "    return sum(model.x[k,i,j] for j in model.loc) == sum(model.x[k,j,i] for j in model.loc)\n",
        "model.enter_exit = Constraint(model.K, model.loc, rule=enter_exit_rule)\n",
        "\n",
        "#each courier start from depot exactly once\n",
        "def leave_depot_rule(model,k):\n",
        "    return sum(model.x[k,n,j] for j in model.I) == 1\n",
        "model.depot_leave = Constraint(model.K, rule=leave_depot_rule)\n",
        "\n",
        "#each courier return to depot exactly once\n",
        "def return_depot_rule(model,k):\n",
        "    return sum(model.x[k,i,n] for i in model.I) == 1\n",
        "model.depot_return = Constraint(model.K, rule=return_depot_rule)\n",
        "\n",
        "#avoid self-loop\n",
        "def self_loop_rule(model,k,i):\n",
        "    return model.x[k,i,i] == 0\n",
        "model.self_loop = Constraint(model.K, model.loc, rule=self_loop_rule)\n",
        "\n",
        "#capacity constraint\n",
        "def capacity_rule(model,k):\n",
        "    return sum(size[i]*(model.x[k,i,j]) for i in model.I for j in model.loc if i!=j) <= capacity[k]\n",
        "model.capacity = Constraint(model.K, rule=capacity_rule)\n",
        "\n",
        "#prevent subtours with MTZ constraint, used in TSP problem\n",
        "#https://phabe.ch/2021/09/19/tsp-subtour-elimination-by-miller-tucker-zemlin-constraint/\n",
        "model.order = ConstraintList()\n",
        "for k in model.K:\n",
        "    for i in model.I:\n",
        "      for j in model.I:\n",
        "        if i != j:\n",
        "          #use Big-M notation(M=2*n)\n",
        "          model.order.add(model.o[k, j] - model.o[k,i] >= 1 -(1-model.x[k,i,j])*2*n)\n",
        "\n",
        "#compute distance\n",
        "def total_distance_rule(model,k):\n",
        "    return model.dist[k] == sum(dist[i][j] * model.x[k, i, j] for i in model.loc for j in model.loc if i != j)\n",
        "model.total_distance_constraint = Constraint(model.K, rule=total_distance_rule)\n",
        "\n",
        "#constraint the obj to be maximum distance travelled by any courier\n",
        "def max_distance_constraint_rule(model, k):\n",
        "    return model.obj >= model.dist[k]\n",
        "model.max_distance_constraint = Constraint(model.K, rule=max_distance_constraint_rule)\n",
        "\n",
        "#lowerbound constraint\n",
        "def lower_bound_rule(model,i):\n",
        "    return model.obj >= (dist[n][i] + dist[i][n])\n",
        "model.lower_bound = Constraint(model.I, rule=lower_bound_rule)\n",
        "\n",
        "#upperbound:  m-1 courier delivers m items, and the last courier deliver n-m+1, take n-m-1 items with the biggest distances\n",
        "sorted_distances=sorted([dist[n][i]+dist[i][n] for i in range(n)],reverse=True)\n",
        "upper_bound = sum(sorted_distances[:n-m+1])\n",
        "def upper_bound_rule(model):\n",
        "    return model.obj <= upper_bound\n",
        "model.upper_bound = Constraint(rule=upper_bound_rule)\n",
        "\n",
        "#objective\n",
        "model.objective = Objective(expr = model.obj, sense=minimize)\n",
        "\n"
      ],
      "metadata": {
        "id": "NnfbcwixmooM"
      },
      "execution_count": 55,
      "outputs": []
    },
    {
      "cell_type": "code",
      "source": [
        "#GLPK SOLVER\n",
        "solver_name = \"GLPK\"\n",
        "solver = SolverFactory('glpk')\n",
        "solver.options['tmlim'] = 300\n",
        "results = solver.solve(model,tee=False)\n",
        "print(results)\n",
        "print(model.obj.value)"
      ],
      "metadata": {
        "colab": {
          "base_uri": "https://localhost:8080/"
        },
        "id": "_GNLD_kvOgMl",
        "outputId": "0e865424-1e50-4f66-be49-9569c67318a6"
      },
      "execution_count": 56,
      "outputs": [
        {
          "output_type": "stream",
          "name": "stdout",
          "text": [
            "\n",
            "Problem: \n",
            "- Name: unknown\n",
            "  Lower bound: 322.0\n",
            "  Upper bound: 322.0\n",
            "  Number of objectives: 1\n",
            "  Number of constraints: 491\n",
            "  Number of variables: 541\n",
            "  Number of nonzeros: 3249\n",
            "  Sense: minimize\n",
            "Solver: \n",
            "- Status: ok\n",
            "  Termination condition: optimal\n",
            "  Statistics: \n",
            "    Branch and bound: \n",
            "      Number of bounded subproblems: 21\n",
            "      Number of created subproblems: 21\n",
            "  Error rc: 0\n",
            "  Time: 0.032975196838378906\n",
            "Solution: \n",
            "- number of solutions: 0\n",
            "  number of solutions displayed: 0\n",
            "\n",
            "322.0\n"
          ]
        }
      ]
    },
    {
      "cell_type": "code",
      "source": [
        "#CBC SOLVER\n",
        "solver_name = \"CBC\"\n",
        "start_time = time.time()\n",
        "solver = Cbc()\n",
        "solver.config.time_limit = 300\n",
        "results = solver.solve(model)\n",
        "final_time = time.time() - start_time\n",
        "print(results)\n",
        "print(final_time)\n",
        "print(model.obj.value)"
      ],
      "metadata": {
        "colab": {
          "base_uri": "https://localhost:8080/"
        },
        "id": "KY5nOqkzmCy7",
        "outputId": "3e35196a-76ab-4645-d04d-500d97dfa4ea"
      },
      "execution_count": 57,
      "outputs": [
        {
          "output_type": "stream",
          "name": "stdout",
          "text": [
            "termination_condition: TerminationCondition.optimal\n",
            "best_feasible_objective: 322.0\n",
            "best_objective_bound: -inf\n",
            "0.23310208320617676\n",
            "322.0\n"
          ]
        }
      ]
    },
    {
      "cell_type": "code",
      "source": [
        "#HIGHS SOLVER\n",
        "solver_name = \"HiGHS\"\n",
        "start_time = time.time()\n",
        "solver = Highs()\n",
        "solver.config.time_limit = 300\n",
        "results = solver.solve(model)\n",
        "final_time = time.time() - start_time\n",
        "print(results)\n",
        "print(final_time)\n",
        "print(model.obj.value)"
      ],
      "metadata": {
        "colab": {
          "base_uri": "https://localhost:8080/"
        },
        "id": "DAFM52V-VM2y",
        "outputId": "cbb891cf-155b-4beb-fda5-cceae0a33edf"
      },
      "execution_count": 58,
      "outputs": [
        {
          "output_type": "stream",
          "name": "stdout",
          "text": [
            "termination_condition: TerminationCondition.optimal\n",
            "best_feasible_objective: 322.0\n",
            "best_objective_bound: 322.0\n",
            "0.39993977546691895\n",
            "322.0\n"
          ]
        }
      ]
    },
    {
      "cell_type": "code",
      "source": [
        "def extract_solution(model,show_edges=False):\n",
        "  sol = []\n",
        "  n = len(model.I)\n",
        "  for k in model.K:\n",
        "    sub_sol = []\n",
        "    for j in model.loc:\n",
        "      #start the route from the depot and deliver the first item\n",
        "      if value(model.x[k,n,j]) > 0.5:\n",
        "        first = j\n",
        "        sub_sol.append(first+1)\n",
        "        break\n",
        "      #print the edges traversed by courier k if show is True\n",
        "      if show_edges:\n",
        "        for i in model.loc:\n",
        "          for j in model.loc:\n",
        "            if value(model.x[k, i, j]) > 0.5:\n",
        "              print(f\"travels from {i} to {j}\")\n",
        "    #route extraction(items delivered by the courier k following the delivery order)\n",
        "    succ=0\n",
        "    prec=first\n",
        "    while(True):\n",
        "      for i in model.loc:\n",
        "        if value(model.x[k,prec,i]>0.5):\n",
        "          if i == n:\n",
        "            succ=n\n",
        "          prec=i\n",
        "          break\n",
        "      if succ == n:\n",
        "        break\n",
        "      sub_sol.append(prec+1)\n",
        "    #print(sub_sol)\n",
        "    sol.append(sub_sol)\n",
        "  print(sol)\n",
        "  return sol\n"
      ],
      "metadata": {
        "id": "fLyuADjBQDLA"
      },
      "execution_count": 59,
      "outputs": []
    },
    {
      "cell_type": "code",
      "source": [
        "sol = extract_solution(model)\n",
        "sol_to_json(final_time,model.obj.value,sol,filename,solver_name)"
      ],
      "metadata": {
        "colab": {
          "base_uri": "https://localhost:8080/"
        },
        "id": "LA8OmDAPRmWk",
        "outputId": "3cc47300-4c56-440d-a8e4-3edfdc488539"
      },
      "execution_count": 60,
      "outputs": [
        {
          "output_type": "stream",
          "name": "stdout",
          "text": [
            "[[3], [6], [8], [4, 1, 5], [7], [2]]\n"
          ]
        }
      ]
    },
    {
      "cell_type": "code",
      "source": [],
      "metadata": {
        "id": "olf751iYWW2m"
      },
      "execution_count": null,
      "outputs": []
    }
  ]
}